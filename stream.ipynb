{
  "nbformat": 4,
  "nbformat_minor": 0,
  "metadata": {
    "colab": {
      "name": "stream.ipynb",
      "provenance": []
    },
    "kernelspec": {
      "name": "python3",
      "display_name": "Python 3"
    },
    "language_info": {
      "name": "python"
    }
  },
  "cells": [
    {
      "cell_type": "code",
      "execution_count": null,
      "metadata": {
        "colab": {
          "base_uri": "https://localhost:8080/",
          "height": 52
        },
        "id": "R6WqOpUnL_Qd",
        "outputId": "af14d0c9-f316-4fe5-f642-92a83f8b2039"
      },
      "outputs": [
        {
          "output_type": "stream",
          "name": "stdout",
          "text": [
            "Requirement already satisfied: pyspark in /usr/local/lib/python3.7/dist-packages (3.2.0)\n",
            "Requirement already satisfied: py4j==0.10.9.2 in /usr/local/lib/python3.7/dist-packages (from pyspark) (0.10.9.2)\n"
          ]
        },
        {
          "output_type": "display_data",
          "data": {
            "application/javascript": [
              "\n",
              "            setTimeout(function() {\n",
              "                var nbb_cell_id = 33;\n",
              "                var nbb_unformatted_code = \"!pip install pyspark\";\n",
              "                var nbb_formatted_code = \"!pip install pyspark\";\n",
              "                var nbb_cells = Jupyter.notebook.get_cells();\n",
              "                for (var i = 0; i < nbb_cells.length; ++i) {\n",
              "                    if (nbb_cells[i].input_prompt_number == nbb_cell_id) {\n",
              "                        if (nbb_cells[i].get_text() == nbb_unformatted_code) {\n",
              "                             nbb_cells[i].set_text(nbb_formatted_code);\n",
              "                        }\n",
              "                        break;\n",
              "                    }\n",
              "                }\n",
              "            }, 500);\n",
              "            "
            ],
            "text/plain": [
              "<IPython.core.display.Javascript object>"
            ]
          },
          "metadata": {}
        }
      ],
      "source": [
        "!pip install pyspark"
      ]
    },
    {
      "cell_type": "code",
      "source": [
        "!pip install nb_black"
      ],
      "metadata": {
        "colab": {
          "base_uri": "https://localhost:8080/",
          "height": 436
        },
        "id": "F5eUPzNTQwq8",
        "outputId": "6b42b5de-9ea5-421e-a7bd-2f0a48d44619"
      },
      "execution_count": null,
      "outputs": [
        {
          "output_type": "stream",
          "name": "stdout",
          "text": [
            "Requirement already satisfied: nb_black in /usr/local/lib/python3.7/dist-packages (1.0.7)\n",
            "Requirement already satisfied: ipython in /usr/local/lib/python3.7/dist-packages (from nb_black) (7.31.0)\n",
            "Requirement already satisfied: black>='19.3' in /usr/local/lib/python3.7/dist-packages (from nb_black) (21.12b0)\n",
            "Requirement already satisfied: tomli<2.0.0,>=0.2.6 in /usr/local/lib/python3.7/dist-packages (from black>='19.3'->nb_black) (1.2.3)\n",
            "Requirement already satisfied: platformdirs>=2 in /usr/local/lib/python3.7/dist-packages (from black>='19.3'->nb_black) (2.4.1)\n",
            "Requirement already satisfied: pathspec<1,>=0.9.0 in /usr/local/lib/python3.7/dist-packages (from black>='19.3'->nb_black) (0.9.0)\n",
            "Requirement already satisfied: click>=7.1.2 in /usr/local/lib/python3.7/dist-packages (from black>='19.3'->nb_black) (7.1.2)\n",
            "Requirement already satisfied: typed-ast>=1.4.2 in /usr/local/lib/python3.7/dist-packages (from black>='19.3'->nb_black) (1.5.1)\n",
            "Requirement already satisfied: typing-extensions>=3.10.0.0 in /usr/local/lib/python3.7/dist-packages (from black>='19.3'->nb_black) (3.10.0.2)\n",
            "Requirement already satisfied: mypy-extensions>=0.4.3 in /usr/local/lib/python3.7/dist-packages (from black>='19.3'->nb_black) (0.4.3)\n",
            "Requirement already satisfied: setuptools>=18.5 in /usr/local/lib/python3.7/dist-packages (from ipython->nb_black) (57.4.0)\n",
            "Requirement already satisfied: backcall in /usr/local/lib/python3.7/dist-packages (from ipython->nb_black) (0.2.0)\n",
            "Requirement already satisfied: pygments in /usr/local/lib/python3.7/dist-packages (from ipython->nb_black) (2.6.1)\n",
            "Requirement already satisfied: decorator in /usr/local/lib/python3.7/dist-packages (from ipython->nb_black) (4.4.2)\n",
            "Requirement already satisfied: pexpect>4.3 in /usr/local/lib/python3.7/dist-packages (from ipython->nb_black) (4.8.0)\n",
            "Requirement already satisfied: prompt-toolkit!=3.0.0,!=3.0.1,<3.1.0,>=2.0.0 in /usr/local/lib/python3.7/dist-packages (from ipython->nb_black) (3.0.24)\n",
            "Requirement already satisfied: traitlets>=4.2 in /usr/local/lib/python3.7/dist-packages (from ipython->nb_black) (5.1.1)\n",
            "Requirement already satisfied: pickleshare in /usr/local/lib/python3.7/dist-packages (from ipython->nb_black) (0.7.5)\n",
            "Requirement already satisfied: matplotlib-inline in /usr/local/lib/python3.7/dist-packages (from ipython->nb_black) (0.1.3)\n",
            "Requirement already satisfied: jedi>=0.16 in /usr/local/lib/python3.7/dist-packages (from ipython->nb_black) (0.18.1)\n",
            "Requirement already satisfied: parso<0.9.0,>=0.8.0 in /usr/local/lib/python3.7/dist-packages (from jedi>=0.16->ipython->nb_black) (0.8.3)\n",
            "Requirement already satisfied: ptyprocess>=0.5 in /usr/local/lib/python3.7/dist-packages (from pexpect>4.3->ipython->nb_black) (0.7.0)\n",
            "Requirement already satisfied: wcwidth in /usr/local/lib/python3.7/dist-packages (from prompt-toolkit!=3.0.0,!=3.0.1,<3.1.0,>=2.0.0->ipython->nb_black) (0.2.5)\n"
          ]
        },
        {
          "output_type": "display_data",
          "data": {
            "application/javascript": [
              "\n",
              "            setTimeout(function() {\n",
              "                var nbb_cell_id = 34;\n",
              "                var nbb_unformatted_code = \"!pip install nb_black\";\n",
              "                var nbb_formatted_code = \"!pip install nb_black\";\n",
              "                var nbb_cells = Jupyter.notebook.get_cells();\n",
              "                for (var i = 0; i < nbb_cells.length; ++i) {\n",
              "                    if (nbb_cells[i].input_prompt_number == nbb_cell_id) {\n",
              "                        if (nbb_cells[i].get_text() == nbb_unformatted_code) {\n",
              "                             nbb_cells[i].set_text(nbb_formatted_code);\n",
              "                        }\n",
              "                        break;\n",
              "                    }\n",
              "                }\n",
              "            }, 500);\n",
              "            "
            ],
            "text/plain": [
              "<IPython.core.display.Javascript object>"
            ]
          },
          "metadata": {}
        }
      ]
    },
    {
      "cell_type": "code",
      "source": [
        "!pip install --upgrade IPython"
      ],
      "metadata": {
        "colab": {
          "base_uri": "https://localhost:8080/",
          "height": 260
        },
        "id": "gtxjOkTxQ438",
        "outputId": "326d412d-1303-4bd0-def9-c8de9ce42154"
      },
      "execution_count": null,
      "outputs": [
        {
          "output_type": "stream",
          "name": "stdout",
          "text": [
            "Requirement already satisfied: IPython in /usr/local/lib/python3.7/dist-packages (7.31.0)\n",
            "Requirement already satisfied: pickleshare in /usr/local/lib/python3.7/dist-packages (from IPython) (0.7.5)\n",
            "Requirement already satisfied: pexpect>4.3 in /usr/local/lib/python3.7/dist-packages (from IPython) (4.8.0)\n",
            "Requirement already satisfied: setuptools>=18.5 in /usr/local/lib/python3.7/dist-packages (from IPython) (57.4.0)\n",
            "Requirement already satisfied: jedi>=0.16 in /usr/local/lib/python3.7/dist-packages (from IPython) (0.18.1)\n",
            "Requirement already satisfied: backcall in /usr/local/lib/python3.7/dist-packages (from IPython) (0.2.0)\n",
            "Requirement already satisfied: prompt-toolkit!=3.0.0,!=3.0.1,<3.1.0,>=2.0.0 in /usr/local/lib/python3.7/dist-packages (from IPython) (3.0.24)\n",
            "Requirement already satisfied: decorator in /usr/local/lib/python3.7/dist-packages (from IPython) (4.4.2)\n",
            "Requirement already satisfied: matplotlib-inline in /usr/local/lib/python3.7/dist-packages (from IPython) (0.1.3)\n",
            "Requirement already satisfied: pygments in /usr/local/lib/python3.7/dist-packages (from IPython) (2.6.1)\n",
            "Requirement already satisfied: traitlets>=4.2 in /usr/local/lib/python3.7/dist-packages (from IPython) (5.1.1)\n",
            "Requirement already satisfied: parso<0.9.0,>=0.8.0 in /usr/local/lib/python3.7/dist-packages (from jedi>=0.16->IPython) (0.8.3)\n",
            "Requirement already satisfied: ptyprocess>=0.5 in /usr/local/lib/python3.7/dist-packages (from pexpect>4.3->IPython) (0.7.0)\n",
            "Requirement already satisfied: wcwidth in /usr/local/lib/python3.7/dist-packages (from prompt-toolkit!=3.0.0,!=3.0.1,<3.1.0,>=2.0.0->IPython) (0.2.5)\n"
          ]
        },
        {
          "output_type": "display_data",
          "data": {
            "application/javascript": [
              "\n",
              "            setTimeout(function() {\n",
              "                var nbb_cell_id = 35;\n",
              "                var nbb_unformatted_code = \"!pip install --upgrade IPython\";\n",
              "                var nbb_formatted_code = \"!pip install --upgrade IPython\";\n",
              "                var nbb_cells = Jupyter.notebook.get_cells();\n",
              "                for (var i = 0; i < nbb_cells.length; ++i) {\n",
              "                    if (nbb_cells[i].input_prompt_number == nbb_cell_id) {\n",
              "                        if (nbb_cells[i].get_text() == nbb_unformatted_code) {\n",
              "                             nbb_cells[i].set_text(nbb_formatted_code);\n",
              "                        }\n",
              "                        break;\n",
              "                    }\n",
              "                }\n",
              "            }, 500);\n",
              "            "
            ],
            "text/plain": [
              "<IPython.core.display.Javascript object>"
            ]
          },
          "metadata": {}
        }
      ]
    },
    {
      "cell_type": "code",
      "source": [
        "%load_ext nb_black\n",
        "from pyspark.sql import SparkSession\n",
        "import pyspark.sql.functions as F\n",
        "import pandas as pd\n",
        "import pyspark.sql.types as types\n",
        "spark = SparkSession.builder.getOrCreate()\n",
        "spark"
      ],
      "metadata": {
        "colab": {
          "base_uri": "https://localhost:8080/",
          "height": 254
        },
        "id": "UHMS5mReRHEr",
        "outputId": "b5d402bc-085d-48ab-8958-619b53e86525"
      },
      "execution_count": null,
      "outputs": [
        {
          "output_type": "stream",
          "name": "stdout",
          "text": [
            "The nb_black extension is already loaded. To reload it, use:\n",
            "  %reload_ext nb_black\n"
          ]
        },
        {
          "output_type": "execute_result",
          "data": {
            "text/html": [
              "\n",
              "            <div>\n",
              "                <p><b>SparkSession - in-memory</b></p>\n",
              "                \n",
              "        <div>\n",
              "            <p><b>SparkContext</b></p>\n",
              "\n",
              "            <p><a href=\"http://f873d6b6a1fe:4040\">Spark UI</a></p>\n",
              "\n",
              "            <dl>\n",
              "              <dt>Version</dt>\n",
              "                <dd><code>v3.2.0</code></dd>\n",
              "              <dt>Master</dt>\n",
              "                <dd><code>local[*]</code></dd>\n",
              "              <dt>AppName</dt>\n",
              "                <dd><code>pyspark-shell</code></dd>\n",
              "            </dl>\n",
              "        </div>\n",
              "        \n",
              "            </div>\n",
              "        "
            ],
            "text/plain": [
              "<pyspark.sql.session.SparkSession at 0x7f487675d3d0>"
            ]
          },
          "metadata": {},
          "execution_count": 36
        },
        {
          "output_type": "display_data",
          "data": {
            "application/javascript": [
              "\n",
              "            setTimeout(function() {\n",
              "                var nbb_cell_id = 36;\n",
              "                var nbb_unformatted_code = \"%load_ext nb_black\\nfrom pyspark.sql import SparkSession\\nimport pyspark.sql.functions as F\\nimport pandas as pd\\nimport pyspark.sql.types as types\\nspark = SparkSession.builder.getOrCreate()\\nspark\";\n",
              "                var nbb_formatted_code = \"%load_ext nb_black\\nfrom pyspark.sql import SparkSession\\nimport pyspark.sql.functions as F\\nimport pandas as pd\\nimport pyspark.sql.types as types\\n\\nspark = SparkSession.builder.getOrCreate()\\nspark\";\n",
              "                var nbb_cells = Jupyter.notebook.get_cells();\n",
              "                for (var i = 0; i < nbb_cells.length; ++i) {\n",
              "                    if (nbb_cells[i].input_prompt_number == nbb_cell_id) {\n",
              "                        if (nbb_cells[i].get_text() == nbb_unformatted_code) {\n",
              "                             nbb_cells[i].set_text(nbb_formatted_code);\n",
              "                        }\n",
              "                        break;\n",
              "                    }\n",
              "                }\n",
              "            }, 500);\n",
              "            "
            ],
            "text/plain": [
              "<IPython.core.display.Javascript object>"
            ]
          },
          "metadata": {}
        }
      ]
    },
    {
      "cell_type": "code",
      "source": [
        "df = spark.read.csv(\"/content/tweet.csv\", header=True, inferSchema=True)\n",
        "dff=spark.read.csv(\"/content/tweee.csv\", header=True, inferSchema=True)\n",
        "sff=pd.read_csv(\"/content/tweet.csv\")"
      ],
      "metadata": {
        "colab": {
          "base_uri": "https://localhost:8080/",
          "height": 17
        },
        "id": "BKIg8jbORPHS",
        "outputId": "39ac2fa6-98ba-4a1d-e5a5-01bf91ecddf8"
      },
      "execution_count": null,
      "outputs": [
        {
          "output_type": "display_data",
          "data": {
            "application/javascript": [
              "\n",
              "            setTimeout(function() {\n",
              "                var nbb_cell_id = 37;\n",
              "                var nbb_unformatted_code = \"df = spark.read.csv(\\\"/content/tweet.csv\\\", header=True, inferSchema=True)\\ndff=spark.read.csv(\\\"/content/tweee.csv\\\", header=True, inferSchema=True)\\nsff=pd.read_csv(\\\"/content/tweet.csv\\\")\";\n",
              "                var nbb_formatted_code = \"df = spark.read.csv(\\\"/content/tweet.csv\\\", header=True, inferSchema=True)\\ndff = spark.read.csv(\\\"/content/tweee.csv\\\", header=True, inferSchema=True)\\nsff = pd.read_csv(\\\"/content/tweet.csv\\\")\";\n",
              "                var nbb_cells = Jupyter.notebook.get_cells();\n",
              "                for (var i = 0; i < nbb_cells.length; ++i) {\n",
              "                    if (nbb_cells[i].input_prompt_number == nbb_cell_id) {\n",
              "                        if (nbb_cells[i].get_text() == nbb_unformatted_code) {\n",
              "                             nbb_cells[i].set_text(nbb_formatted_code);\n",
              "                        }\n",
              "                        break;\n",
              "                    }\n",
              "                }\n",
              "            }, 500);\n",
              "            "
            ],
            "text/plain": [
              "<IPython.core.display.Javascript object>"
            ]
          },
          "metadata": {}
        }
      ]
    },
    {
      "cell_type": "code",
      "source": [
        "df.columns"
      ],
      "metadata": {
        "colab": {
          "base_uri": "https://localhost:8080/",
          "height": 34
        },
        "id": "rFI5fB_LRkGJ",
        "outputId": "f0aaee3d-0967-4fdc-c706-0f731196579d"
      },
      "execution_count": null,
      "outputs": [
        {
          "output_type": "execute_result",
          "data": {
            "text/plain": [
              "['_c0', 'tweets']"
            ]
          },
          "metadata": {},
          "execution_count": 38
        },
        {
          "output_type": "display_data",
          "data": {
            "application/javascript": [
              "\n",
              "            setTimeout(function() {\n",
              "                var nbb_cell_id = 38;\n",
              "                var nbb_unformatted_code = \"df.columns\";\n",
              "                var nbb_formatted_code = \"df.columns\";\n",
              "                var nbb_cells = Jupyter.notebook.get_cells();\n",
              "                for (var i = 0; i < nbb_cells.length; ++i) {\n",
              "                    if (nbb_cells[i].input_prompt_number == nbb_cell_id) {\n",
              "                        if (nbb_cells[i].get_text() == nbb_unformatted_code) {\n",
              "                             nbb_cells[i].set_text(nbb_formatted_code);\n",
              "                        }\n",
              "                        break;\n",
              "                    }\n",
              "                }\n",
              "            }, 500);\n",
              "            "
            ],
            "text/plain": [
              "<IPython.core.display.Javascript object>"
            ]
          },
          "metadata": {}
        }
      ]
    },
    {
      "cell_type": "code",
      "source": [
        "df.show(2)"
      ],
      "metadata": {
        "colab": {
          "base_uri": "https://localhost:8080/",
          "height": 156
        },
        "id": "mQRK6XmZSJ7Q",
        "outputId": "1b0e497d-d56b-41f5-b41b-6b22a749fdec"
      },
      "execution_count": null,
      "outputs": [
        {
          "output_type": "stream",
          "name": "stdout",
          "text": [
            "+---+--------------------+\n",
            "|_c0|              tweets|\n",
            "+---+--------------------+\n",
            "|  0|\"Tombstones in Th...|\n",
            "|  1|@Polaxed @SkyNews...|\n",
            "+---+--------------------+\n",
            "only showing top 2 rows\n",
            "\n"
          ]
        },
        {
          "output_type": "display_data",
          "data": {
            "application/javascript": [
              "\n",
              "            setTimeout(function() {\n",
              "                var nbb_cell_id = 39;\n",
              "                var nbb_unformatted_code = \"df.show(2)\";\n",
              "                var nbb_formatted_code = \"df.show(2)\";\n",
              "                var nbb_cells = Jupyter.notebook.get_cells();\n",
              "                for (var i = 0; i < nbb_cells.length; ++i) {\n",
              "                    if (nbb_cells[i].input_prompt_number == nbb_cell_id) {\n",
              "                        if (nbb_cells[i].get_text() == nbb_unformatted_code) {\n",
              "                             nbb_cells[i].set_text(nbb_formatted_code);\n",
              "                        }\n",
              "                        break;\n",
              "                    }\n",
              "                }\n",
              "            }, 500);\n",
              "            "
            ],
            "text/plain": [
              "<IPython.core.display.Javascript object>"
            ]
          },
          "metadata": {}
        }
      ]
    },
    {
      "cell_type": "code",
      "source": [
        "from pyspark.sql.functions import monotonically_increasing_id\n",
        "df = df.withColumn(\"idd\", F.monotonically_increasing_id())\n",
        "dff = dff.withColumn(\"idd\", F.monotonically_increasing_id())\n",
        "dff.show()"
      ],
      "metadata": {
        "colab": {
          "base_uri": "https://localhost:8080/",
          "height": 468
        },
        "id": "JC309dyTXQXp",
        "outputId": "9a4142f1-ed08-4063-f859-001bb94588bc"
      },
      "execution_count": null,
      "outputs": [
        {
          "output_type": "stream",
          "name": "stdout",
          "text": [
            "+--------------------+--------------------+---------------------+--------------------+-----------------+---+\n",
            "|                 _c0|              tweets|TextBlob_Subjectivity|   TextBlob_Polarity|TextBlob_Analysis|idd|\n",
            "+--------------------+--------------------+---------------------+--------------------+-----------------+---+\n",
            "|                   0|  quarantine prod...|                  0.0|                 0.0|          Neutral|  0|\n",
            "|                   1| _Mocu  Mate I go...|                  0.6| -0.0666666666666667|         Negative|  1|\n",
            "|                   2| I don't understa...|  0.10555555555555556|-0.08333333333333333|         Negative|  2|\n",
            "|                   3| He didn't know h...|   0.2727272727272727| 0.11363636363636363|         Positive|  3|\n",
            "|                   4| naka quarantine ...|                  0.7|                 0.8|         Positive|  4|\n",
            "|                   5|Can y'all stop do...|                  0.0|                 0.0|          Neutral|  5|\n",
            "|                   6|  Ar you bored in...|                  1.0|                -0.5|         Negative|  6|\n",
            "|                   7|        Yeah hear...|                  0.0|                 0.0|          Neutral|  7|\n",
            "|                   8|Had a fantastic t...|   0.6166666666666666|              0.1875|         Positive|  8|\n",
            "|                   9|  I see more than...|   0.6666666666666666|                 0.0|          Neutral|  9|\n",
            "|                  10|imagine thinking ...|                  0.0|                 0.0|          Neutral| 10|\n",
            "|                  11|Quarantine?  Isol...|                 null|                null|             null| 11|\n",
            "|Help me God!  A p...|  0.6222222222222222| -0.09999999999999999|            Negative|             null| 12|\n",
            "|                  12| Are you as bord ...|                  0.0|                 0.0|          Neutral| 13|\n",
            "|                  13|How bored am I in...|                 null|                null|             null| 14|\n",
            "|      Wordle 211 3/6|                null|                 null|                null|             null| 15|\n",
            "|             ⬛⬛🟨🟨⬛|                null|                 null|                null|             null| 16|\n",
            "|           🟨🟨🟨🟨⬛|                null|                 null|                null|             null| 17|\n",
            "|         🟩🟩🟩🟩🟩\"|                 1.0|                 -0.5|            Negative|             null| 18|\n",
            "|                  14||| thrown in quar...|                  1.0|                0.75|         Positive| 19|\n",
            "+--------------------+--------------------+---------------------+--------------------+-----------------+---+\n",
            "only showing top 20 rows\n",
            "\n"
          ]
        },
        {
          "output_type": "display_data",
          "data": {
            "application/javascript": [
              "\n",
              "            setTimeout(function() {\n",
              "                var nbb_cell_id = 40;\n",
              "                var nbb_unformatted_code = \"from pyspark.sql.functions import monotonically_increasing_id\\ndf = df.withColumn(\\\"idd\\\", F.monotonically_increasing_id())\\ndff = dff.withColumn(\\\"idd\\\", F.monotonically_increasing_id())\\ndff.show()\";\n",
              "                var nbb_formatted_code = \"from pyspark.sql.functions import monotonically_increasing_id\\n\\ndf = df.withColumn(\\\"idd\\\", F.monotonically_increasing_id())\\ndff = dff.withColumn(\\\"idd\\\", F.monotonically_increasing_id())\\ndff.show()\";\n",
              "                var nbb_cells = Jupyter.notebook.get_cells();\n",
              "                for (var i = 0; i < nbb_cells.length; ++i) {\n",
              "                    if (nbb_cells[i].input_prompt_number == nbb_cell_id) {\n",
              "                        if (nbb_cells[i].get_text() == nbb_unformatted_code) {\n",
              "                             nbb_cells[i].set_text(nbb_formatted_code);\n",
              "                        }\n",
              "                        break;\n",
              "                    }\n",
              "                }\n",
              "            }, 500);\n",
              "            "
            ],
            "text/plain": [
              "<IPython.core.display.Javascript object>"
            ]
          },
          "metadata": {}
        }
      ]
    },
    {
      "cell_type": "code",
      "source": [
        "\n",
        "steps = df.select(\"idd\").distinct().collect()\n",
        "for idd in steps[:]:\n",
        "  _df = df.where(f\"idd = {idd[0]}\")\n",
        "  _df.coalesce(1).write.mode(\"append\").option(\"header\", \"true\").csv(\"content/tweet\")"
      ],
      "metadata": {
        "colab": {
          "base_uri": "https://localhost:8080/",
          "height": 17
        },
        "id": "O9QSB0gWSm2Q",
        "outputId": "da04b505-00b7-49c7-8c39-677e71039339"
      },
      "execution_count": null,
      "outputs": [
        {
          "output_type": "display_data",
          "data": {
            "application/javascript": [
              "\n",
              "            setTimeout(function() {\n",
              "                var nbb_cell_id = 41;\n",
              "                var nbb_unformatted_code = \"\\nsteps = df.select(\\\"idd\\\").distinct().collect()\\nfor idd in steps[:]:\\n  _df = df.where(f\\\"idd = {idd[0]}\\\")\\n  _df.coalesce(1).write.mode(\\\"append\\\").option(\\\"header\\\", \\\"true\\\").csv(\\\"content/tweet\\\")\";\n",
              "                var nbb_formatted_code = \"steps = df.select(\\\"idd\\\").distinct().collect()\\nfor idd in steps[:]:\\n    _df = df.where(f\\\"idd = {idd[0]}\\\")\\n    _df.coalesce(1).write.mode(\\\"append\\\").option(\\\"header\\\", \\\"true\\\").csv(\\\"content/tweet\\\")\";\n",
              "                var nbb_cells = Jupyter.notebook.get_cells();\n",
              "                for (var i = 0; i < nbb_cells.length; ++i) {\n",
              "                    if (nbb_cells[i].input_prompt_number == nbb_cell_id) {\n",
              "                        if (nbb_cells[i].get_text() == nbb_unformatted_code) {\n",
              "                             nbb_cells[i].set_text(nbb_formatted_code);\n",
              "                        }\n",
              "                        break;\n",
              "                    }\n",
              "                }\n",
              "            }, 500);\n",
              "            "
            ],
            "text/plain": [
              "<IPython.core.display.Javascript object>"
            ]
          },
          "metadata": {}
        }
      ]
    },
    {
      "cell_type": "code",
      "source": [
        "steps = dff.select(\"idd\").distinct().collect()\n",
        "for idd in steps[:]:\n",
        "  _dff = dff.where(f\"idd = {idd[0]}\")\n",
        "  _dff.coalesce(1).write.mode(\"append\").option(\"header\", \"true\").csv(\"content/tweee\")"
      ],
      "metadata": {
        "colab": {
          "base_uri": "https://localhost:8080/",
          "height": 17
        },
        "id": "SzTUmdpwuiG1",
        "outputId": "abc048c6-e592-4691-f64a-499609fb8ebd"
      },
      "execution_count": null,
      "outputs": [
        {
          "output_type": "display_data",
          "data": {
            "application/javascript": [
              "\n",
              "            setTimeout(function() {\n",
              "                var nbb_cell_id = 42;\n",
              "                var nbb_unformatted_code = \"steps = dff.select(\\\"idd\\\").distinct().collect()\\nfor idd in steps[:]:\\n  _dff = dff.where(f\\\"idd = {idd[0]}\\\")\\n  _dff.coalesce(1).write.mode(\\\"append\\\").option(\\\"header\\\", \\\"true\\\").csv(\\\"content/tweee\\\")\";\n",
              "                var nbb_formatted_code = \"steps = dff.select(\\\"idd\\\").distinct().collect()\\nfor idd in steps[:]:\\n    _dff = dff.where(f\\\"idd = {idd[0]}\\\")\\n    _dff.coalesce(1).write.mode(\\\"append\\\").option(\\\"header\\\", \\\"true\\\").csv(\\\"content/tweee\\\")\";\n",
              "                var nbb_cells = Jupyter.notebook.get_cells();\n",
              "                for (var i = 0; i < nbb_cells.length; ++i) {\n",
              "                    if (nbb_cells[i].input_prompt_number == nbb_cell_id) {\n",
              "                        if (nbb_cells[i].get_text() == nbb_unformatted_code) {\n",
              "                             nbb_cells[i].set_text(nbb_formatted_code);\n",
              "                        }\n",
              "                        break;\n",
              "                    }\n",
              "                }\n",
              "            }, 500);\n",
              "            "
            ],
            "text/plain": [
              "<IPython.core.display.Javascript object>"
            ]
          },
          "metadata": {}
        }
      ]
    },
    {
      "cell_type": "code",
      "source": [
        "!cd content/tweet/ && ls"
      ],
      "metadata": {
        "colab": {
          "base_uri": "https://localhost:8080/",
          "height": 1000
        },
        "id": "JrkIieuvr0ih",
        "outputId": "0d7f0077-8749-4162-fe0c-5f131d44bf7d"
      },
      "execution_count": null,
      "outputs": [
        {
          "output_type": "stream",
          "name": "stdout",
          "text": [
            "part-00000-01ca10f3-7fa2-4849-9299-f05402eb067b-c000.csv\n",
            "part-00000-0221bab7-be97-4927-a3cf-bcd338a856b9-c000.csv\n",
            "part-00000-04213521-c97f-4214-b02c-f1ad59c9daa8-c000.csv\n",
            "part-00000-04289ece-b356-4a7a-ae8f-fe7de6768f3c-c000.csv\n",
            "part-00000-0678c437-7273-4649-9c9b-39a113d741c7-c000.csv\n",
            "part-00000-0c33fffa-091d-49b0-91ea-25a4a5e428ae-c000.csv\n",
            "part-00000-0c661500-328c-4dfe-ba73-dbd868e9e534-c000.csv\n",
            "part-00000-0f383cce-b48f-4737-b1f6-f30b7da2a62a-c000.csv\n",
            "part-00000-0f78d463-ea06-4c5b-9596-f715038a9316-c000.csv\n",
            "part-00000-102a7adc-bb39-4aeb-980e-6272b7b8742f-c000.csv\n",
            "part-00000-1392a87d-0b90-45a5-b147-e63199cd84a3-c000.csv\n",
            "part-00000-13dc0d4c-2cde-4c88-9d0d-2b3b241ec620-c000.csv\n",
            "part-00000-1863b801-eb9b-44f6-abad-85a23bca5b13-c000.csv\n",
            "part-00000-1b2f2ab7-9dd1-49e2-80c5-a42a9fba1ae6-c000.csv\n",
            "part-00000-1bda39dd-6b91-456b-a7b7-5660e1a480ac-c000.csv\n",
            "part-00000-1c27b619-48d1-41f6-9a6e-a7cc177cae14-c000.csv\n",
            "part-00000-1c383889-9433-485c-b08c-165b27dded45-c000.csv\n",
            "part-00000-1e08aecb-a76f-471e-a23a-cb8348fe04d7-c000.csv\n",
            "part-00000-218591bf-b094-4f50-9405-0d914fae4e78-c000.csv\n",
            "part-00000-23ff933a-2ed4-4aff-b574-3cb5790f081b-c000.csv\n",
            "part-00000-253ee203-e6d8-4721-b5d5-5b81f93b5cab-c000.csv\n",
            "part-00000-305e182f-42e8-4189-a546-76bdae443813-c000.csv\n",
            "part-00000-33b0bcfc-f273-49f2-85bb-a3e508714034-c000.csv\n",
            "part-00000-36b81fad-8c81-48fa-b130-46f4c20f817c-c000.csv\n",
            "part-00000-37fa2df3-e2b6-4c7c-baf9-badabf22ae83-c000.csv\n",
            "part-00000-3918996d-d18f-4595-8ed5-9152bd66aae1-c000.csv\n",
            "part-00000-398eb0ff-bb9b-4435-8eca-4ae55f155ac8-c000.csv\n",
            "part-00000-39f1c7e4-cc4d-45c6-b6e9-b0a0921dc57e-c000.csv\n",
            "part-00000-3e1c3683-2195-4e29-ba07-8d45c2e3cfa9-c000.csv\n",
            "part-00000-3f218543-879d-48f2-aca7-39aaac133d38-c000.csv\n",
            "part-00000-417d828d-3d7d-44c9-98e0-9607c179e94d-c000.csv\n",
            "part-00000-43f68513-2edd-47b6-9a41-18ae90a41746-c000.csv\n",
            "part-00000-46a97ead-6d57-4654-abc3-58d32588dc50-c000.csv\n",
            "part-00000-483613f9-3a6f-4744-8ff4-38bb68e0d301-c000.csv\n",
            "part-00000-486a62cc-be9d-44ac-92e5-03352c56bed3-c000.csv\n",
            "part-00000-4f8b0757-0327-4967-93f4-aca9e92e4f2d-c000.csv\n",
            "part-00000-5451471e-c7fc-4d40-9d64-baffd4293df5-c000.csv\n",
            "part-00000-54a4cfe7-bda7-434b-ab59-5624d3ba7ecc-c000.csv\n",
            "part-00000-5606455e-bed6-4e1d-aa28-e9194f3492d8-c000.csv\n",
            "part-00000-56e880ed-f1aa-42b4-9b03-138a38f735d8-c000.csv\n",
            "part-00000-5e766c42-7a14-430c-a8e9-f1d8ad2becf3-c000.csv\n",
            "part-00000-62a1a334-d1a1-4d13-ba9c-ab4d400d7c55-c000.csv\n",
            "part-00000-644f7b81-df72-4664-9ac4-a433eca31742-c000.csv\n",
            "part-00000-6709cca1-6ba3-4765-9995-762747d29216-c000.csv\n",
            "part-00000-6bb7c4c0-0755-480b-bf29-4c29864d047d-c000.csv\n",
            "part-00000-6deda96c-3f19-4634-85a3-57b7b6c304d0-c000.csv\n",
            "part-00000-6e5808a4-ce8d-40de-9a88-e716bf300bb6-c000.csv\n",
            "part-00000-6f6de77c-5ce3-404e-9aea-fe70f488c1a6-c000.csv\n",
            "part-00000-7167a17c-f530-4bef-9bb2-a9abd515bc93-c000.csv\n",
            "part-00000-79cd578a-a9c8-4837-8c6c-39ea6f13e271-c000.csv\n",
            "part-00000-7c9f409c-1547-42fe-b135-5997c6c6a7be-c000.csv\n",
            "part-00000-7cc39861-1cd9-441a-abe6-3fceaabd01b3-c000.csv\n",
            "part-00000-7e035206-a5e1-40f4-bc66-3adbc78a4d20-c000.csv\n",
            "part-00000-83e43aee-a86a-4225-b71a-aae752e72ed7-c000.csv\n",
            "part-00000-8502a40f-0597-4b16-be0d-7d74bc78b222-c000.csv\n",
            "part-00000-857a6eca-48c5-44ee-9b3a-c6eef1cea322-c000.csv\n",
            "part-00000-8a3787e4-5e1b-4b73-b231-00369f45887e-c000.csv\n",
            "part-00000-8ebb94b6-9522-4b9a-ad8d-15b8ed5e763a-c000.csv\n",
            "part-00000-8ed704b2-6547-411a-b53a-27b98456c82f-c000.csv\n",
            "part-00000-8f24cd85-d77a-4bff-a519-9a2798226657-c000.csv\n",
            "part-00000-8f63d1fa-dad2-4aa5-a00f-f79ef8ab5c51-c000.csv\n",
            "part-00000-8fb6c40d-5daf-467e-92c7-6aa9bdf9ef3a-c000.csv\n",
            "part-00000-8fda1d87-686f-4ff0-8f9a-82f9ed8cc8a1-c000.csv\n",
            "part-00000-9142011d-ea0e-4f8e-a56d-93cb4f8184b6-c000.csv\n",
            "part-00000-9303d88e-9068-4bd5-a16f-7d5a4d3ab19b-c000.csv\n",
            "part-00000-93b2b020-9b9f-4cc9-ad55-11662c5fdb56-c000.csv\n",
            "part-00000-95009430-1a24-437d-9a50-f73a40f484ba-c000.csv\n",
            "part-00000-95d7b592-9a2d-4b35-99a3-e91d3ddf6ac8-c000.csv\n",
            "part-00000-97c540aa-2d01-4df5-9450-71d9d516afec-c000.csv\n",
            "part-00000-9940b5cd-37bb-4c62-935b-3a8b9bdd2945-c000.csv\n",
            "part-00000-a4379f9a-e67f-40c5-9527-a2ecdf278bac-c000.csv\n",
            "part-00000-a64055e3-bf1c-4307-971b-a5be977c35a5-c000.csv\n",
            "part-00000-a85dfd31-b268-4dfc-aed1-4dd878470761-c000.csv\n",
            "part-00000-abdcf865-bac7-4e40-9493-1348984ab6db-c000.csv\n",
            "part-00000-b0289a45-5784-474a-89b6-c456718cb83f-c000.csv\n",
            "part-00000-b1b3dc2c-8c68-4ada-9c8d-513e830a4edb-c000.csv\n",
            "part-00000-b2210ea9-b512-4624-9beb-b1b6dc325d68-c000.csv\n",
            "part-00000-b2c70d7d-a6c7-4c93-ab9e-de9860bced9a-c000.csv\n",
            "part-00000-b2e3dcf0-9ec9-4811-b2f5-705b69dadbea-c000.csv\n",
            "part-00000-b307d18e-3436-44a6-bac0-2483a28ea721-c000.csv\n",
            "part-00000-b3413136-2e2c-4047-8cd8-d244e891fcf4-c000.csv\n",
            "part-00000-b5ad8540-f01f-474b-a9ba-f52d9289e35b-c000.csv\n",
            "part-00000-b942b490-5f37-4843-be6c-b99f6fd8ff61-c000.csv\n",
            "part-00000-b961be43-bdcf-4dc7-a7fc-ef23f635f7ec-c000.csv\n",
            "part-00000-b9e6d398-2009-4e69-9458-7f95c912e3b7-c000.csv\n",
            "part-00000-ba1a9346-5ba7-42ab-9625-e4391f83970e-c000.csv\n",
            "part-00000-ba2d2162-bb65-47c8-bd50-851cbe465edc-c000.csv\n",
            "part-00000-bc97d895-044a-4847-b6e3-9f0583516130-c000.csv\n",
            "part-00000-be1ad7d0-d1b5-4d18-8155-650cd3351846-c000.csv\n",
            "part-00000-bf787426-9ac5-4827-bf83-06ec0c0a6c85-c000.csv\n",
            "part-00000-c0daff96-695c-4090-8a55-510b01cff809-c000.csv\n",
            "part-00000-c2163981-36af-465a-b97d-3c4efcc86560-c000.csv\n",
            "part-00000-c3186430-cd22-4263-ae02-df2afb11c06b-c000.csv\n",
            "part-00000-c323adca-19f7-4d6a-a54e-ad89cdc4b94d-c000.csv\n",
            "part-00000-c402e658-33fe-4f18-b190-f2578c67f491-c000.csv\n",
            "part-00000-c4e890e0-c573-45ab-9233-8008447f5fcf-c000.csv\n",
            "part-00000-c9d976aa-f196-4702-b65f-b6514d283548-c000.csv\n",
            "part-00000-ca288ccc-faf9-44cd-9e44-b9f18427d3f1-c000.csv\n",
            "part-00000-cb53029e-e125-4923-8884-d7d4d0e00ee1-c000.csv\n",
            "part-00000-cd9596b2-b73b-48f0-a225-2bf8387f40c7-c000.csv\n",
            "part-00000-ce631d63-43f8-4040-bf60-565cfddc3ef4-c000.csv\n",
            "part-00000-cf3fd065-b779-4ccd-8f85-4dadcfa7c70a-c000.csv\n",
            "part-00000-cf66ca75-9aff-477d-92b5-5dd8433ac3f2-c000.csv\n",
            "part-00000-d0bd9498-9fd9-42b9-b5c9-06545c120b66-c000.csv\n",
            "part-00000-d1008930-b8e6-4c5b-bc42-2128291fc2c4-c000.csv\n",
            "part-00000-d3e7a650-7f0e-4a09-9bde-1c48b71b5afd-c000.csv\n",
            "part-00000-d52b734b-2d68-4a72-856a-a1bf322dfc8f-c000.csv\n",
            "part-00000-d74252c5-2be5-41f9-a24b-6fc740e25ce5-c000.csv\n",
            "part-00000-d7a1441a-ae83-430a-9d29-2ec9422a3a3c-c000.csv\n",
            "part-00000-d98a65f4-85b2-41a0-9f2a-4e7f72a3f06d-c000.csv\n",
            "part-00000-dd1692c0-f133-4181-897b-16aac3bac12b-c000.csv\n",
            "part-00000-e1b2d447-5565-4d3f-b164-3e12eeb9fada-c000.csv\n",
            "part-00000-e1cb4438-a310-4ca9-9ef1-a531b40cf3a3-c000.csv\n",
            "part-00000-e303ca2f-c419-4ee5-b20e-1e9e26a814e8-c000.csv\n",
            "part-00000-e816504e-7bd3-49eb-ab37-d62f00566694-c000.csv\n",
            "part-00000-e88f667e-8ea3-4732-bb31-74208c93f736-c000.csv\n",
            "part-00000-eaa08e77-fabb-4f14-b459-e4a21b045ff2-c000.csv\n",
            "part-00000-eb1a0c37-9ad1-4cd4-909e-66aa4a847f5f-c000.csv\n",
            "part-00000-eda2fcaf-9a8e-493b-932a-577d8b031c7b-c000.csv\n",
            "part-00000-efcf101e-9c7f-46f1-b843-581b2c5818be-c000.csv\n",
            "part-00000-f014d99f-c64f-44e3-9d05-40217a25172d-c000.csv\n",
            "part-00000-f11db88b-d014-4fc7-b949-5ce925c54e4d-c000.csv\n",
            "part-00000-f2d04899-9989-45fd-a47f-6783b80b5518-c000.csv\n",
            "part-00000-f5be7546-838c-4b07-9df7-afa23cec6151-c000.csv\n",
            "part-00000-f66c642e-7861-40f2-86e0-80f53b5c902a-c000.csv\n",
            "part-00000-f7e25270-d0cf-4994-baa6-185930b027ad-c000.csv\n",
            "part-00000-fb2a2fdc-9c11-46ae-9ebe-7d6aa559cfea-c000.csv\n",
            "part-00000-fdccd508-1ed2-419a-aa8a-e4982aa0c2fe-c000.csv\n",
            "part-00000-ffd16af4-d033-468d-8c33-c79ecdfe0cea-c000.csv\n",
            "_SUCCESS\n"
          ]
        },
        {
          "output_type": "display_data",
          "data": {
            "application/javascript": [
              "\n",
              "            setTimeout(function() {\n",
              "                var nbb_cell_id = 43;\n",
              "                var nbb_unformatted_code = \"!cd content/tweet/ && ls\";\n",
              "                var nbb_formatted_code = \"!cd content/tweet/ && ls\";\n",
              "                var nbb_cells = Jupyter.notebook.get_cells();\n",
              "                for (var i = 0; i < nbb_cells.length; ++i) {\n",
              "                    if (nbb_cells[i].input_prompt_number == nbb_cell_id) {\n",
              "                        if (nbb_cells[i].get_text() == nbb_unformatted_code) {\n",
              "                             nbb_cells[i].set_text(nbb_formatted_code);\n",
              "                        }\n",
              "                        break;\n",
              "                    }\n",
              "                }\n",
              "            }, 500);\n",
              "            "
            ],
            "text/plain": [
              "<IPython.core.display.Javascript object>"
            ]
          },
          "metadata": {}
        }
      ]
    },
    {
      "cell_type": "code",
      "source": [
        "!cd content/tweet/ && ls"
      ],
      "metadata": {
        "colab": {
          "base_uri": "https://localhost:8080/",
          "height": 1000
        },
        "id": "Ffa6utAxu6qf",
        "outputId": "372b6349-4121-413d-95d5-0ccaa3211b9c"
      },
      "execution_count": null,
      "outputs": [
        {
          "output_type": "stream",
          "name": "stdout",
          "text": [
            "part-00000-01ca10f3-7fa2-4849-9299-f05402eb067b-c000.csv\n",
            "part-00000-0221bab7-be97-4927-a3cf-bcd338a856b9-c000.csv\n",
            "part-00000-04213521-c97f-4214-b02c-f1ad59c9daa8-c000.csv\n",
            "part-00000-04289ece-b356-4a7a-ae8f-fe7de6768f3c-c000.csv\n",
            "part-00000-0678c437-7273-4649-9c9b-39a113d741c7-c000.csv\n",
            "part-00000-0c33fffa-091d-49b0-91ea-25a4a5e428ae-c000.csv\n",
            "part-00000-0c661500-328c-4dfe-ba73-dbd868e9e534-c000.csv\n",
            "part-00000-0f383cce-b48f-4737-b1f6-f30b7da2a62a-c000.csv\n",
            "part-00000-0f78d463-ea06-4c5b-9596-f715038a9316-c000.csv\n",
            "part-00000-102a7adc-bb39-4aeb-980e-6272b7b8742f-c000.csv\n",
            "part-00000-1392a87d-0b90-45a5-b147-e63199cd84a3-c000.csv\n",
            "part-00000-13dc0d4c-2cde-4c88-9d0d-2b3b241ec620-c000.csv\n",
            "part-00000-1863b801-eb9b-44f6-abad-85a23bca5b13-c000.csv\n",
            "part-00000-1b2f2ab7-9dd1-49e2-80c5-a42a9fba1ae6-c000.csv\n",
            "part-00000-1bda39dd-6b91-456b-a7b7-5660e1a480ac-c000.csv\n",
            "part-00000-1c27b619-48d1-41f6-9a6e-a7cc177cae14-c000.csv\n",
            "part-00000-1c383889-9433-485c-b08c-165b27dded45-c000.csv\n",
            "part-00000-1e08aecb-a76f-471e-a23a-cb8348fe04d7-c000.csv\n",
            "part-00000-218591bf-b094-4f50-9405-0d914fae4e78-c000.csv\n",
            "part-00000-23ff933a-2ed4-4aff-b574-3cb5790f081b-c000.csv\n",
            "part-00000-253ee203-e6d8-4721-b5d5-5b81f93b5cab-c000.csv\n",
            "part-00000-305e182f-42e8-4189-a546-76bdae443813-c000.csv\n",
            "part-00000-33b0bcfc-f273-49f2-85bb-a3e508714034-c000.csv\n",
            "part-00000-36b81fad-8c81-48fa-b130-46f4c20f817c-c000.csv\n",
            "part-00000-37fa2df3-e2b6-4c7c-baf9-badabf22ae83-c000.csv\n",
            "part-00000-3918996d-d18f-4595-8ed5-9152bd66aae1-c000.csv\n",
            "part-00000-398eb0ff-bb9b-4435-8eca-4ae55f155ac8-c000.csv\n",
            "part-00000-39f1c7e4-cc4d-45c6-b6e9-b0a0921dc57e-c000.csv\n",
            "part-00000-3e1c3683-2195-4e29-ba07-8d45c2e3cfa9-c000.csv\n",
            "part-00000-3f218543-879d-48f2-aca7-39aaac133d38-c000.csv\n",
            "part-00000-417d828d-3d7d-44c9-98e0-9607c179e94d-c000.csv\n",
            "part-00000-43f68513-2edd-47b6-9a41-18ae90a41746-c000.csv\n",
            "part-00000-46a97ead-6d57-4654-abc3-58d32588dc50-c000.csv\n",
            "part-00000-483613f9-3a6f-4744-8ff4-38bb68e0d301-c000.csv\n",
            "part-00000-486a62cc-be9d-44ac-92e5-03352c56bed3-c000.csv\n",
            "part-00000-4f8b0757-0327-4967-93f4-aca9e92e4f2d-c000.csv\n",
            "part-00000-5451471e-c7fc-4d40-9d64-baffd4293df5-c000.csv\n",
            "part-00000-54a4cfe7-bda7-434b-ab59-5624d3ba7ecc-c000.csv\n",
            "part-00000-5606455e-bed6-4e1d-aa28-e9194f3492d8-c000.csv\n",
            "part-00000-56e880ed-f1aa-42b4-9b03-138a38f735d8-c000.csv\n",
            "part-00000-5e766c42-7a14-430c-a8e9-f1d8ad2becf3-c000.csv\n",
            "part-00000-62a1a334-d1a1-4d13-ba9c-ab4d400d7c55-c000.csv\n",
            "part-00000-644f7b81-df72-4664-9ac4-a433eca31742-c000.csv\n",
            "part-00000-6709cca1-6ba3-4765-9995-762747d29216-c000.csv\n",
            "part-00000-6bb7c4c0-0755-480b-bf29-4c29864d047d-c000.csv\n",
            "part-00000-6deda96c-3f19-4634-85a3-57b7b6c304d0-c000.csv\n",
            "part-00000-6e5808a4-ce8d-40de-9a88-e716bf300bb6-c000.csv\n",
            "part-00000-6f6de77c-5ce3-404e-9aea-fe70f488c1a6-c000.csv\n",
            "part-00000-7167a17c-f530-4bef-9bb2-a9abd515bc93-c000.csv\n",
            "part-00000-79cd578a-a9c8-4837-8c6c-39ea6f13e271-c000.csv\n",
            "part-00000-7c9f409c-1547-42fe-b135-5997c6c6a7be-c000.csv\n",
            "part-00000-7cc39861-1cd9-441a-abe6-3fceaabd01b3-c000.csv\n",
            "part-00000-7e035206-a5e1-40f4-bc66-3adbc78a4d20-c000.csv\n",
            "part-00000-83e43aee-a86a-4225-b71a-aae752e72ed7-c000.csv\n",
            "part-00000-8502a40f-0597-4b16-be0d-7d74bc78b222-c000.csv\n",
            "part-00000-857a6eca-48c5-44ee-9b3a-c6eef1cea322-c000.csv\n",
            "part-00000-8a3787e4-5e1b-4b73-b231-00369f45887e-c000.csv\n",
            "part-00000-8ebb94b6-9522-4b9a-ad8d-15b8ed5e763a-c000.csv\n",
            "part-00000-8ed704b2-6547-411a-b53a-27b98456c82f-c000.csv\n",
            "part-00000-8f24cd85-d77a-4bff-a519-9a2798226657-c000.csv\n",
            "part-00000-8f63d1fa-dad2-4aa5-a00f-f79ef8ab5c51-c000.csv\n",
            "part-00000-8fb6c40d-5daf-467e-92c7-6aa9bdf9ef3a-c000.csv\n",
            "part-00000-8fda1d87-686f-4ff0-8f9a-82f9ed8cc8a1-c000.csv\n",
            "part-00000-9142011d-ea0e-4f8e-a56d-93cb4f8184b6-c000.csv\n",
            "part-00000-9303d88e-9068-4bd5-a16f-7d5a4d3ab19b-c000.csv\n",
            "part-00000-93b2b020-9b9f-4cc9-ad55-11662c5fdb56-c000.csv\n",
            "part-00000-95009430-1a24-437d-9a50-f73a40f484ba-c000.csv\n",
            "part-00000-95d7b592-9a2d-4b35-99a3-e91d3ddf6ac8-c000.csv\n",
            "part-00000-97c540aa-2d01-4df5-9450-71d9d516afec-c000.csv\n",
            "part-00000-9940b5cd-37bb-4c62-935b-3a8b9bdd2945-c000.csv\n",
            "part-00000-a4379f9a-e67f-40c5-9527-a2ecdf278bac-c000.csv\n",
            "part-00000-a64055e3-bf1c-4307-971b-a5be977c35a5-c000.csv\n",
            "part-00000-a85dfd31-b268-4dfc-aed1-4dd878470761-c000.csv\n",
            "part-00000-abdcf865-bac7-4e40-9493-1348984ab6db-c000.csv\n",
            "part-00000-b0289a45-5784-474a-89b6-c456718cb83f-c000.csv\n",
            "part-00000-b1b3dc2c-8c68-4ada-9c8d-513e830a4edb-c000.csv\n",
            "part-00000-b2210ea9-b512-4624-9beb-b1b6dc325d68-c000.csv\n",
            "part-00000-b2c70d7d-a6c7-4c93-ab9e-de9860bced9a-c000.csv\n",
            "part-00000-b2e3dcf0-9ec9-4811-b2f5-705b69dadbea-c000.csv\n",
            "part-00000-b307d18e-3436-44a6-bac0-2483a28ea721-c000.csv\n",
            "part-00000-b3413136-2e2c-4047-8cd8-d244e891fcf4-c000.csv\n",
            "part-00000-b5ad8540-f01f-474b-a9ba-f52d9289e35b-c000.csv\n",
            "part-00000-b942b490-5f37-4843-be6c-b99f6fd8ff61-c000.csv\n",
            "part-00000-b961be43-bdcf-4dc7-a7fc-ef23f635f7ec-c000.csv\n",
            "part-00000-b9e6d398-2009-4e69-9458-7f95c912e3b7-c000.csv\n",
            "part-00000-ba1a9346-5ba7-42ab-9625-e4391f83970e-c000.csv\n",
            "part-00000-ba2d2162-bb65-47c8-bd50-851cbe465edc-c000.csv\n",
            "part-00000-bc97d895-044a-4847-b6e3-9f0583516130-c000.csv\n",
            "part-00000-be1ad7d0-d1b5-4d18-8155-650cd3351846-c000.csv\n",
            "part-00000-bf787426-9ac5-4827-bf83-06ec0c0a6c85-c000.csv\n",
            "part-00000-c0daff96-695c-4090-8a55-510b01cff809-c000.csv\n",
            "part-00000-c2163981-36af-465a-b97d-3c4efcc86560-c000.csv\n",
            "part-00000-c3186430-cd22-4263-ae02-df2afb11c06b-c000.csv\n",
            "part-00000-c323adca-19f7-4d6a-a54e-ad89cdc4b94d-c000.csv\n",
            "part-00000-c402e658-33fe-4f18-b190-f2578c67f491-c000.csv\n",
            "part-00000-c4e890e0-c573-45ab-9233-8008447f5fcf-c000.csv\n",
            "part-00000-c9d976aa-f196-4702-b65f-b6514d283548-c000.csv\n",
            "part-00000-ca288ccc-faf9-44cd-9e44-b9f18427d3f1-c000.csv\n",
            "part-00000-cb53029e-e125-4923-8884-d7d4d0e00ee1-c000.csv\n",
            "part-00000-cd9596b2-b73b-48f0-a225-2bf8387f40c7-c000.csv\n",
            "part-00000-ce631d63-43f8-4040-bf60-565cfddc3ef4-c000.csv\n",
            "part-00000-cf3fd065-b779-4ccd-8f85-4dadcfa7c70a-c000.csv\n",
            "part-00000-cf66ca75-9aff-477d-92b5-5dd8433ac3f2-c000.csv\n",
            "part-00000-d0bd9498-9fd9-42b9-b5c9-06545c120b66-c000.csv\n",
            "part-00000-d1008930-b8e6-4c5b-bc42-2128291fc2c4-c000.csv\n",
            "part-00000-d3e7a650-7f0e-4a09-9bde-1c48b71b5afd-c000.csv\n",
            "part-00000-d52b734b-2d68-4a72-856a-a1bf322dfc8f-c000.csv\n",
            "part-00000-d74252c5-2be5-41f9-a24b-6fc740e25ce5-c000.csv\n",
            "part-00000-d7a1441a-ae83-430a-9d29-2ec9422a3a3c-c000.csv\n",
            "part-00000-d98a65f4-85b2-41a0-9f2a-4e7f72a3f06d-c000.csv\n",
            "part-00000-dd1692c0-f133-4181-897b-16aac3bac12b-c000.csv\n",
            "part-00000-e1b2d447-5565-4d3f-b164-3e12eeb9fada-c000.csv\n",
            "part-00000-e1cb4438-a310-4ca9-9ef1-a531b40cf3a3-c000.csv\n",
            "part-00000-e303ca2f-c419-4ee5-b20e-1e9e26a814e8-c000.csv\n",
            "part-00000-e816504e-7bd3-49eb-ab37-d62f00566694-c000.csv\n",
            "part-00000-e88f667e-8ea3-4732-bb31-74208c93f736-c000.csv\n",
            "part-00000-eaa08e77-fabb-4f14-b459-e4a21b045ff2-c000.csv\n",
            "part-00000-eb1a0c37-9ad1-4cd4-909e-66aa4a847f5f-c000.csv\n",
            "part-00000-eda2fcaf-9a8e-493b-932a-577d8b031c7b-c000.csv\n",
            "part-00000-efcf101e-9c7f-46f1-b843-581b2c5818be-c000.csv\n",
            "part-00000-f014d99f-c64f-44e3-9d05-40217a25172d-c000.csv\n",
            "part-00000-f11db88b-d014-4fc7-b949-5ce925c54e4d-c000.csv\n",
            "part-00000-f2d04899-9989-45fd-a47f-6783b80b5518-c000.csv\n",
            "part-00000-f5be7546-838c-4b07-9df7-afa23cec6151-c000.csv\n",
            "part-00000-f66c642e-7861-40f2-86e0-80f53b5c902a-c000.csv\n",
            "part-00000-f7e25270-d0cf-4994-baa6-185930b027ad-c000.csv\n",
            "part-00000-fb2a2fdc-9c11-46ae-9ebe-7d6aa559cfea-c000.csv\n",
            "part-00000-fdccd508-1ed2-419a-aa8a-e4982aa0c2fe-c000.csv\n",
            "part-00000-ffd16af4-d033-468d-8c33-c79ecdfe0cea-c000.csv\n",
            "_SUCCESS\n"
          ]
        },
        {
          "output_type": "display_data",
          "data": {
            "application/javascript": [
              "\n",
              "            setTimeout(function() {\n",
              "                var nbb_cell_id = 44;\n",
              "                var nbb_unformatted_code = \"!cd content/tweet/ && ls\";\n",
              "                var nbb_formatted_code = \"!cd content/tweet/ && ls\";\n",
              "                var nbb_cells = Jupyter.notebook.get_cells();\n",
              "                for (var i = 0; i < nbb_cells.length; ++i) {\n",
              "                    if (nbb_cells[i].input_prompt_number == nbb_cell_id) {\n",
              "                        if (nbb_cells[i].get_text() == nbb_unformatted_code) {\n",
              "                             nbb_cells[i].set_text(nbb_formatted_code);\n",
              "                        }\n",
              "                        break;\n",
              "                    }\n",
              "                }\n",
              "            }, 500);\n",
              "            "
            ],
            "text/plain": [
              "<IPython.core.display.Javascript object>"
            ]
          },
          "metadata": {}
        }
      ]
    },
    {
      "cell_type": "code",
      "source": [
        "!cd content/tweee/ && ls"
      ],
      "metadata": {
        "colab": {
          "base_uri": "https://localhost:8080/",
          "height": 1000
        },
        "id": "iLC81F3uvPu9",
        "outputId": "5fee0d12-4355-47f4-9638-0e8037b12d19"
      },
      "execution_count": null,
      "outputs": [
        {
          "output_type": "stream",
          "name": "stdout",
          "text": [
            "part-00000-003f0cba-7e40-4414-9aa0-dd1a5d5bfaa5-c000.csv\n",
            "part-00000-00713201-708d-46e4-b367-d0c4fe852f2d-c000.csv\n",
            "part-00000-00d15c3c-370e-4ef8-be26-74d616eed663-c000.csv\n",
            "part-00000-03cae283-7b74-4341-95f4-c9e441b05022-c000.csv\n",
            "part-00000-04906a98-dc01-4457-a042-90e9caf8fbf5-c000.csv\n",
            "part-00000-0ce125e7-121f-4a3b-be44-4b471073e540-c000.csv\n",
            "part-00000-0d202b5b-411a-4580-a5cf-ac03aa17a034-c000.csv\n",
            "part-00000-0f0a4205-5cda-472c-9a08-7041d303924a-c000.csv\n",
            "part-00000-0fc676c3-fb08-48e6-9ae2-a79bca01d052-c000.csv\n",
            "part-00000-0fea2526-18cc-4991-98b7-3d3a926ee1d5-c000.csv\n",
            "part-00000-14a56ca7-4b8f-4d71-b4fd-256a996fd91f-c000.csv\n",
            "part-00000-1a9dbea5-d30c-4b8f-bc23-e5b36e1083c1-c000.csv\n",
            "part-00000-1b4553d6-5af0-4fe1-8050-b1277c3b4379-c000.csv\n",
            "part-00000-1ce99415-0306-446b-adea-fdf9b315374e-c000.csv\n",
            "part-00000-1fcd4fad-ccc8-4fac-a32b-ffdba62db34f-c000.csv\n",
            "part-00000-2251e2cc-590f-4b11-9ec2-173a4f30f24b-c000.csv\n",
            "part-00000-252b2c03-e1d7-4d8f-b8de-e3d24de9ed7f-c000.csv\n",
            "part-00000-25d93bf8-9278-4990-b966-667129c7e2c2-c000.csv\n",
            "part-00000-26a7230f-f676-4e6f-8962-00e817c8e866-c000.csv\n",
            "part-00000-26d72a24-b862-41a9-8d2c-b08f1f7521cd-c000.csv\n",
            "part-00000-293d66fd-2ac3-48dc-a7e2-e79354b40bb7-c000.csv\n",
            "part-00000-2aa06560-85b0-4021-beb9-ead794be5a26-c000.csv\n",
            "part-00000-2fec5282-82a8-4dcf-9c5e-c2108fb7f802-c000.csv\n",
            "part-00000-3142fa1e-2a9a-428c-a41b-a379cf5d6ecb-c000.csv\n",
            "part-00000-325c930e-88b3-49c4-b191-72d7868f4261-c000.csv\n",
            "part-00000-3477206f-da25-44c8-99c6-a6f88ec415ca-c000.csv\n",
            "part-00000-35390a58-31f1-4e07-a642-46aad66d96cd-c000.csv\n",
            "part-00000-35946983-4993-4fae-8f27-d0670f997569-c000.csv\n",
            "part-00000-36a512a2-e9e5-4b8f-8afd-16bc73a33e62-c000.csv\n",
            "part-00000-3af8a372-9c81-4934-aac1-8db24e750fb3-c000.csv\n",
            "part-00000-3bb423eb-d3ff-4cd7-a519-2f676c7604d3-c000.csv\n",
            "part-00000-3eb5dc08-5fb6-4075-bd30-1bb99fb90e60-c000.csv\n",
            "part-00000-3f6cf419-48d4-4558-a59d-298ebc2b4aa6-c000.csv\n",
            "part-00000-40ab69ae-b011-4b28-8b7d-a08c4d00da42-c000.csv\n",
            "part-00000-4128930d-f6ce-44a9-8e7a-48f88e580db7-c000.csv\n",
            "part-00000-4394dff0-42be-4856-81b1-3194c1f3ba1e-c000.csv\n",
            "part-00000-50c04054-4c57-4c4d-87d1-24fc74292523-c000.csv\n",
            "part-00000-512e33a0-1839-4071-babe-5fc962c1cfcc-c000.csv\n",
            "part-00000-5312e229-0649-4449-af0e-18e7f39d7e16-c000.csv\n",
            "part-00000-5399edc6-2fbd-4af1-9397-cfdf349bf09a-c000.csv\n",
            "part-00000-55fc8927-9a80-4fd4-8821-d222d1ee8a22-c000.csv\n",
            "part-00000-56022153-18b2-4d49-8181-f7d848fd954e-c000.csv\n",
            "part-00000-5a9b7248-5508-4272-8c1c-6583926e751a-c000.csv\n",
            "part-00000-5cb0b9a0-a612-452b-bae7-ad9ae48da7c5-c000.csv\n",
            "part-00000-5f97c76f-ce82-45c7-bda7-1738b1da0ad8-c000.csv\n",
            "part-00000-62ce292b-2ff2-46ec-ab62-e4120f78a153-c000.csv\n",
            "part-00000-663e0682-e593-457a-906c-4fe2f1e0a917-c000.csv\n",
            "part-00000-673a6a01-be09-4f70-99ef-d7f4d9cb966d-c000.csv\n",
            "part-00000-6766257e-6586-4ecf-a408-d3098dd57930-c000.csv\n",
            "part-00000-6a86a2fb-cfa8-4e52-a437-381040a292bb-c000.csv\n",
            "part-00000-6abc03f8-0e59-4733-a1fb-5fadef348e38-c000.csv\n",
            "part-00000-6b7291fd-18b5-4d13-a3eb-e0e6d4c6a62f-c000.csv\n",
            "part-00000-6d2c9d9c-9a36-4806-8d17-d0921d375cea-c000.csv\n",
            "part-00000-6d787606-0d89-4747-a6a0-251b407ee9ce-c000.csv\n",
            "part-00000-6da898e3-13d3-4b51-9654-b9a01efb5041-c000.csv\n",
            "part-00000-6dc26130-79d3-479c-8e22-bd29c89c18d1-c000.csv\n",
            "part-00000-6ffc4e23-cbfe-4b0a-af9d-2321ff14e97d-c000.csv\n",
            "part-00000-711bde4b-4ed6-4969-beb1-d68b591f3791-c000.csv\n",
            "part-00000-7134e6cd-140c-4b80-ac0b-7303f3e3da13-c000.csv\n",
            "part-00000-7150dfec-e7b8-4622-b6d5-ffbce9c95c51-c000.csv\n",
            "part-00000-78aa6e1a-3be6-4cb2-935e-e221fe7d24c3-c000.csv\n",
            "part-00000-7a431eb4-75a3-45d3-a6ed-ce8599b3e781-c000.csv\n",
            "part-00000-7e12794c-b530-4d15-bf77-1d7e938c06b7-c000.csv\n",
            "part-00000-7e793175-0b5c-4961-92fb-8be44d5d1ba6-c000.csv\n",
            "part-00000-7f0de8cb-9f8f-4ca5-a13c-c1a41501c132-c000.csv\n",
            "part-00000-7ff32067-ce4a-437a-a6dd-f1f04f7d6599-c000.csv\n",
            "part-00000-818c6162-b193-4f71-9e52-4b2e0f2786de-c000.csv\n",
            "part-00000-82dc3a49-3ab4-47fb-a6bd-a81b0973e4bc-c000.csv\n",
            "part-00000-85f649aa-8cca-438f-ad54-0b67362b3a06-c000.csv\n",
            "part-00000-88607f94-0ad3-42aa-9665-5f4099427da3-c000.csv\n",
            "part-00000-8a16dc5e-40b7-4d32-9995-6b25cdcc5af0-c000.csv\n",
            "part-00000-8bb37a3b-3bf3-4ca9-9d4b-0ceeb204c305-c000.csv\n",
            "part-00000-8cb80b8b-8a35-4896-810d-45fc155e54dc-c000.csv\n",
            "part-00000-94afc219-009c-4e6f-a1a8-8f69d7d8a6ed-c000.csv\n",
            "part-00000-9715f939-43d7-4b54-aacf-a127bda729c9-c000.csv\n",
            "part-00000-978d7705-25ed-493d-b8cd-493a629491c0-c000.csv\n",
            "part-00000-97eaa9af-c622-44b5-9d52-947a8bcb7691-c000.csv\n",
            "part-00000-999f615d-c769-41ba-8b5b-87149c0d7acf-c000.csv\n",
            "part-00000-9cd5e2fe-c637-4b32-b247-f7762e21bb7f-c000.csv\n",
            "part-00000-9d5afb49-f694-45f8-9d6d-a8ed4ade3f28-c000.csv\n",
            "part-00000-9dd012be-7727-4073-9580-10ea9fe0d305-c000.csv\n",
            "part-00000-9f8838d1-d520-439b-9da0-562dcf0f9ed7-c000.csv\n",
            "part-00000-a43ed8d5-0b60-47c5-b2d5-cec8c49f799e-c000.csv\n",
            "part-00000-a9890a0b-ae2b-43e0-a660-e2d675d91052-c000.csv\n",
            "part-00000-aacdb39f-f41d-437d-a6d0-ec5627e4e385-c000.csv\n",
            "part-00000-ad975824-01da-437c-894e-4a6f0f5f0d7e-c000.csv\n",
            "part-00000-aef11ff2-7437-4231-9d47-282d888312d8-c000.csv\n",
            "part-00000-afd4a821-8d21-4b70-a185-3f24e77e67e1-c000.csv\n",
            "part-00000-b0656e1f-116e-4ad0-8df5-7d3cfa35a816-c000.csv\n",
            "part-00000-b0707f53-b496-437b-9ddf-5138f70a10a0-c000.csv\n",
            "part-00000-b07cca2b-ba3f-4853-8ee0-6a86c1603455-c000.csv\n",
            "part-00000-b1054265-e7fd-48b7-930c-a2987d5327b3-c000.csv\n",
            "part-00000-b8b66106-9c78-46b6-8ae5-2333b3707d1b-c000.csv\n",
            "part-00000-bab6e5fb-f09e-40d3-bbb6-ce0361306ee7-c000.csv\n",
            "part-00000-c0844d88-b9fa-4687-a7e3-ff289a27a1d9-c000.csv\n",
            "part-00000-c125649f-7c1b-43fa-b82c-0b91f83120a7-c000.csv\n",
            "part-00000-c2cd8102-a142-425c-bd2a-d64286ccc520-c000.csv\n",
            "part-00000-c2ee3b1f-11b7-416e-8e3e-00a362e76bb0-c000.csv\n",
            "part-00000-c51387ea-bf41-418a-8372-5bf73a30ad20-c000.csv\n",
            "part-00000-c5cdd499-abf8-4af6-8906-474271549132-c000.csv\n",
            "part-00000-c9ce44f0-0549-4974-8e04-27b4da3bf53b-c000.csv\n",
            "part-00000-ca333f3f-f497-4324-89af-bc693834f185-c000.csv\n",
            "part-00000-cb8e177a-d52b-450d-9d80-39ea931e5dd1-c000.csv\n",
            "part-00000-cd8b468e-ec11-4cd3-9eb1-9314620e3b4c-c000.csv\n",
            "part-00000-cde2bdf8-b016-4394-a8ad-f7190b100813-c000.csv\n",
            "part-00000-cece0a0c-5b02-46cf-8312-a5020a89207b-c000.csv\n",
            "part-00000-d0afd6de-789c-4182-8592-56d78e7ed2a6-c000.csv\n",
            "part-00000-d21f5304-c4e3-479f-b1f1-cfedf99094e0-c000.csv\n",
            "part-00000-d2367cf5-9946-421f-acae-007328cc7250-c000.csv\n",
            "part-00000-d3719470-d85c-4665-ba6d-8e5a168e2329-c000.csv\n",
            "part-00000-d8123cc7-165e-4fdd-8c02-e1370d5486f9-c000.csv\n",
            "part-00000-da274cd7-31f6-43f7-b8c5-872a63da3adb-c000.csv\n",
            "part-00000-da302456-29c6-4a48-854c-5cc2493a5d30-c000.csv\n",
            "part-00000-e42c9f77-d7df-45cb-a281-171154626bd9-c000.csv\n",
            "part-00000-e89fd4c2-08fc-41dc-8d8d-07f906ad7454-c000.csv\n",
            "part-00000-e99ced39-ddb3-447d-aba0-4eaa31ccb375-c000.csv\n",
            "part-00000-eaad264d-112b-442e-bc6f-972d24d42620-c000.csv\n",
            "part-00000-f3daf4f5-9d00-44cf-8afd-0187785d36ce-c000.csv\n",
            "part-00000-f69ffe58-1dfc-4af2-bfbd-b75fd9a3964d-c000.csv\n",
            "part-00000-f947680c-4b07-4fc4-baaa-12d9fb4b2c2e-c000.csv\n",
            "part-00000-fc5a1459-cddd-4217-97bd-190f4e86f880-c000.csv\n",
            "part-00000-fe6ae6b3-b2a4-45a2-8652-655754241579-c000.csv\n",
            "_SUCCESS\n"
          ]
        },
        {
          "output_type": "display_data",
          "data": {
            "application/javascript": [
              "\n",
              "            setTimeout(function() {\n",
              "                var nbb_cell_id = 45;\n",
              "                var nbb_unformatted_code = \"!cd content/tweee/ && ls\";\n",
              "                var nbb_formatted_code = \"!cd content/tweee/ && ls\";\n",
              "                var nbb_cells = Jupyter.notebook.get_cells();\n",
              "                for (var i = 0; i < nbb_cells.length; ++i) {\n",
              "                    if (nbb_cells[i].input_prompt_number == nbb_cell_id) {\n",
              "                        if (nbb_cells[i].get_text() == nbb_unformatted_code) {\n",
              "                             nbb_cells[i].set_text(nbb_formatted_code);\n",
              "                        }\n",
              "                        break;\n",
              "                    }\n",
              "                }\n",
              "            }, 500);\n",
              "            "
            ],
            "text/plain": [
              "<IPython.core.display.Javascript object>"
            ]
          },
          "metadata": {}
        }
      ]
    },
    {
      "cell_type": "code",
      "source": [
        "import pandas as pd\n",
        "part = spark.read.csv(\"/content/content/tweet/part-00000-b2c70d7d-a6c7-4c93-ab9e-de9860bced9a-c000.csv\",header=True, inferSchema=True)\n",
        "#parte= spark.read.csv(\"/content/content/tweee/part-00000-04b3ea6e-0f8b-47d0-bef2-fdbe377aa707-c000.csv\",header=True, inferSchema=True)\n",
        "type(part)"
      ],
      "metadata": {
        "colab": {
          "base_uri": "https://localhost:8080/",
          "height": 34
        },
        "id": "509kmzO9r7Yd",
        "outputId": "6647760e-6fba-4816-d60c-6e65627331e0"
      },
      "execution_count": null,
      "outputs": [
        {
          "output_type": "execute_result",
          "data": {
            "text/plain": [
              "pyspark.sql.dataframe.DataFrame"
            ]
          },
          "metadata": {},
          "execution_count": 50
        },
        {
          "output_type": "display_data",
          "data": {
            "application/javascript": [
              "\n",
              "            setTimeout(function() {\n",
              "                var nbb_cell_id = 50;\n",
              "                var nbb_unformatted_code = \"import pandas as pd\\npart = spark.read.csv(\\\"/content/content/tweet/part-00000-b2c70d7d-a6c7-4c93-ab9e-de9860bced9a-c000.csv\\\",header=True, inferSchema=True)\\n#parte= spark.read.csv(\\\"/content/content/tweee/part-00000-04b3ea6e-0f8b-47d0-bef2-fdbe377aa707-c000.csv\\\",header=True, inferSchema=True)\\ntype(part)\";\n",
              "                var nbb_formatted_code = \"import pandas as pd\\n\\npart = spark.read.csv(\\n    \\\"/content/content/tweet/part-00000-b2c70d7d-a6c7-4c93-ab9e-de9860bced9a-c000.csv\\\",\\n    header=True,\\n    inferSchema=True,\\n)\\n# parte= spark.read.csv(\\\"/content/content/tweee/part-00000-04b3ea6e-0f8b-47d0-bef2-fdbe377aa707-c000.csv\\\",header=True, inferSchema=True)\\ntype(part)\";\n",
              "                var nbb_cells = Jupyter.notebook.get_cells();\n",
              "                for (var i = 0; i < nbb_cells.length; ++i) {\n",
              "                    if (nbb_cells[i].input_prompt_number == nbb_cell_id) {\n",
              "                        if (nbb_cells[i].get_text() == nbb_unformatted_code) {\n",
              "                             nbb_cells[i].set_text(nbb_formatted_code);\n",
              "                        }\n",
              "                        break;\n",
              "                    }\n",
              "                }\n",
              "            }, 500);\n",
              "            "
            ],
            "text/plain": [
              "<IPython.core.display.Javascript object>"
            ]
          },
          "metadata": {}
        }
      ]
    },
    {
      "cell_type": "code",
      "source": [
        "part.groupBy(\"idd\").count().show()"
      ],
      "metadata": {
        "colab": {
          "base_uri": "https://localhost:8080/",
          "height": 121
        },
        "id": "RBLHNt6Hc3th",
        "outputId": "9a2f49b1-5cfd-4a24-94b1-0b0f843745bf"
      },
      "execution_count": null,
      "outputs": [
        {
          "output_type": "stream",
          "name": "stdout",
          "text": [
            "+---+-----+\n",
            "|idd|count|\n",
            "+---+-----+\n",
            "| 44|    1|\n",
            "+---+-----+\n",
            "\n"
          ]
        },
        {
          "output_type": "display_data",
          "data": {
            "application/javascript": [
              "\n",
              "            setTimeout(function() {\n",
              "                var nbb_cell_id = 51;\n",
              "                var nbb_unformatted_code = \"part.groupBy(\\\"idd\\\").count().show()\";\n",
              "                var nbb_formatted_code = \"part.groupBy(\\\"idd\\\").count().show()\";\n",
              "                var nbb_cells = Jupyter.notebook.get_cells();\n",
              "                for (var i = 0; i < nbb_cells.length; ++i) {\n",
              "                    if (nbb_cells[i].input_prompt_number == nbb_cell_id) {\n",
              "                        if (nbb_cells[i].get_text() == nbb_unformatted_code) {\n",
              "                             nbb_cells[i].set_text(nbb_formatted_code);\n",
              "                        }\n",
              "                        break;\n",
              "                    }\n",
              "                }\n",
              "            }, 500);\n",
              "            "
            ],
            "text/plain": [
              "<IPython.core.display.Javascript object>"
            ]
          },
          "metadata": {}
        }
      ]
    },
    {
      "cell_type": "code",
      "source": [
        "import re\n",
        "def cleanTxt(text):\n",
        "    text = re.sub(r'@[A-Za-z0-9]+', '', text) #supprimer les @mentions\n",
        "    text = re.sub(r'#', '', text) #supprimer les hachtag\n",
        "    text = re.sub(r'RT[\\s]+', '', text) #supprimer RT\n",
        "    text = re.sub(r'https?:\\/\\/\\S+', '', text) #supprimer les links\n",
        "    return text\n",
        "\n",
        "\n"
      ],
      "metadata": {
        "colab": {
          "base_uri": "https://localhost:8080/",
          "height": 17
        },
        "id": "aG1wXrp--l2c",
        "outputId": "cf464bfb-346d-4fbb-95c9-95c6e2b1b31f"
      },
      "execution_count": null,
      "outputs": [
        {
          "output_type": "display_data",
          "data": {
            "application/javascript": [
              "\n",
              "            setTimeout(function() {\n",
              "                var nbb_cell_id = 53;\n",
              "                var nbb_unformatted_code = \"import re\\ndef cleanTxt(text):\\n    text = re.sub(r'@[A-Za-z0-9]+', '', text) #supprimer les @mentions\\n    text = re.sub(r'#', '', text) #supprimer les hachtag\\n    text = re.sub(r'RT[\\\\s]+', '', text) #supprimer RT\\n    text = re.sub(r'https?:\\\\/\\\\/\\\\S+', '', text) #supprimer les links\\n    return text\";\n",
              "                var nbb_formatted_code = \"import re\\n\\n\\ndef cleanTxt(text):\\n    text = re.sub(r\\\"@[A-Za-z0-9]+\\\", \\\"\\\", text)  # supprimer les @mentions\\n    text = re.sub(r\\\"#\\\", \\\"\\\", text)  # supprimer les hachtag\\n    text = re.sub(r\\\"RT[\\\\s]+\\\", \\\"\\\", text)  # supprimer RT\\n    text = re.sub(r\\\"https?:\\\\/\\\\/\\\\S+\\\", \\\"\\\", text)  # supprimer les links\\n    return text\";\n",
              "                var nbb_cells = Jupyter.notebook.get_cells();\n",
              "                for (var i = 0; i < nbb_cells.length; ++i) {\n",
              "                    if (nbb_cells[i].input_prompt_number == nbb_cell_id) {\n",
              "                        if (nbb_cells[i].get_text() == nbb_unformatted_code) {\n",
              "                             nbb_cells[i].set_text(nbb_formatted_code);\n",
              "                        }\n",
              "                        break;\n",
              "                    }\n",
              "                }\n",
              "            }, 500);\n",
              "            "
            ],
            "text/plain": [
              "<IPython.core.display.Javascript object>"
            ]
          },
          "metadata": {}
        }
      ]
    },
    {
      "cell_type": "code",
      "source": [
        "dataSchema = part.schema\n",
        "#dataSchema1=parte.schema"
      ],
      "metadata": {
        "colab": {
          "base_uri": "https://localhost:8080/",
          "height": 17
        },
        "id": "Wa7QaMg-r7dO",
        "outputId": "f56331c8-e285-42be-cfc3-6c89eb1689f9"
      },
      "execution_count": null,
      "outputs": [
        {
          "output_type": "display_data",
          "data": {
            "application/javascript": [
              "\n",
              "            setTimeout(function() {\n",
              "                var nbb_cell_id = 55;\n",
              "                var nbb_unformatted_code = \"dataSchema = part.schema\\n#dataSchema1=parte.schema\";\n",
              "                var nbb_formatted_code = \"dataSchema = part.schema\\n# dataSchema1=parte.schema\";\n",
              "                var nbb_cells = Jupyter.notebook.get_cells();\n",
              "                for (var i = 0; i < nbb_cells.length; ++i) {\n",
              "                    if (nbb_cells[i].input_prompt_number == nbb_cell_id) {\n",
              "                        if (nbb_cells[i].get_text() == nbb_unformatted_code) {\n",
              "                             nbb_cells[i].set_text(nbb_formatted_code);\n",
              "                        }\n",
              "                        break;\n",
              "                    }\n",
              "                }\n",
              "            }, 500);\n",
              "            "
            ],
            "text/plain": [
              "<IPython.core.display.Javascript object>"
            ]
          },
          "metadata": {}
        }
      ]
    },
    {
      "cell_type": "code",
      "source": [
        "dataSchema"
      ],
      "metadata": {
        "colab": {
          "base_uri": "https://localhost:8080/",
          "height": 34
        },
        "id": "m1DmmXLoagfE",
        "outputId": "12bf2d2b-8752-45bc-e665-32d9d8162d1b"
      },
      "execution_count": null,
      "outputs": [
        {
          "output_type": "execute_result",
          "data": {
            "text/plain": [
              "StructType(List(StructField(_c0,IntegerType,true),StructField(tweets,StringType,true),StructField(idd,IntegerType,true)))"
            ]
          },
          "metadata": {},
          "execution_count": 56
        },
        {
          "output_type": "display_data",
          "data": {
            "application/javascript": [
              "\n",
              "            setTimeout(function() {\n",
              "                var nbb_cell_id = 56;\n",
              "                var nbb_unformatted_code = \"dataSchema\";\n",
              "                var nbb_formatted_code = \"dataSchema\";\n",
              "                var nbb_cells = Jupyter.notebook.get_cells();\n",
              "                for (var i = 0; i < nbb_cells.length; ++i) {\n",
              "                    if (nbb_cells[i].input_prompt_number == nbb_cell_id) {\n",
              "                        if (nbb_cells[i].get_text() == nbb_unformatted_code) {\n",
              "                             nbb_cells[i].set_text(nbb_formatted_code);\n",
              "                        }\n",
              "                        break;\n",
              "                    }\n",
              "                }\n",
              "            }, 500);\n",
              "            "
            ],
            "text/plain": [
              "<IPython.core.display.Javascript object>"
            ]
          },
          "metadata": {}
        }
      ]
    },
    {
      "cell_type": "code",
      "source": [
        "dataSchema"
      ],
      "metadata": {
        "colab": {
          "base_uri": "https://localhost:8080/",
          "height": 34
        },
        "id": "CTeKWoVBr7e3",
        "outputId": "6470ba2e-afe3-4735-d64c-430c89a08b7d"
      },
      "execution_count": null,
      "outputs": [
        {
          "output_type": "execute_result",
          "data": {
            "text/plain": [
              "StructType(List(StructField(_c0,IntegerType,true),StructField(tweets,StringType,true),StructField(idd,IntegerType,true)))"
            ]
          },
          "metadata": {},
          "execution_count": 57
        },
        {
          "output_type": "display_data",
          "data": {
            "application/javascript": [
              "\n",
              "            setTimeout(function() {\n",
              "                var nbb_cell_id = 57;\n",
              "                var nbb_unformatted_code = \"dataSchema\";\n",
              "                var nbb_formatted_code = \"dataSchema\";\n",
              "                var nbb_cells = Jupyter.notebook.get_cells();\n",
              "                for (var i = 0; i < nbb_cells.length; ++i) {\n",
              "                    if (nbb_cells[i].input_prompt_number == nbb_cell_id) {\n",
              "                        if (nbb_cells[i].get_text() == nbb_unformatted_code) {\n",
              "                             nbb_cells[i].set_text(nbb_formatted_code);\n",
              "                        }\n",
              "                        break;\n",
              "                    }\n",
              "                }\n",
              "            }, 500);\n",
              "            "
            ],
            "text/plain": [
              "<IPython.core.display.Javascript object>"
            ]
          },
          "metadata": {}
        }
      ]
    },
    {
      "cell_type": "code",
      "source": [
        "streaming = (spark.readStream.schema(dataSchema).option(\"maxFilesPerTrigger\", 1).csv(\"content/tweet/\"))\n",
        "streaming1 = (spark.readStream.schema(dataSchema).option(\"maxFilesPerTrigger\", 1).csv(\"content/tweee/\"))"
      ],
      "metadata": {
        "colab": {
          "base_uri": "https://localhost:8080/",
          "height": 17
        },
        "id": "3vZwlEOksaPt",
        "outputId": "29ec0278-3bb6-449a-8da6-d68d5f28bb3a"
      },
      "execution_count": null,
      "outputs": [
        {
          "output_type": "display_data",
          "data": {
            "application/javascript": [
              "\n",
              "            setTimeout(function() {\n",
              "                var nbb_cell_id = 59;\n",
              "                var nbb_unformatted_code = \"streaming = (spark.readStream.schema(dataSchema).option(\\\"maxFilesPerTrigger\\\", 1).csv(\\\"content/tweet/\\\"))\\nstreaming1 = (spark.readStream.schema(dataSchema).option(\\\"maxFilesPerTrigger\\\", 1).csv(\\\"content/tweee/\\\"))\";\n",
              "                var nbb_formatted_code = \"streaming = (\\n    spark.readStream.schema(dataSchema)\\n    .option(\\\"maxFilesPerTrigger\\\", 1)\\n    .csv(\\\"content/tweet/\\\")\\n)\\nstreaming1 = (\\n    spark.readStream.schema(dataSchema)\\n    .option(\\\"maxFilesPerTrigger\\\", 1)\\n    .csv(\\\"content/tweee/\\\")\\n)\";\n",
              "                var nbb_cells = Jupyter.notebook.get_cells();\n",
              "                for (var i = 0; i < nbb_cells.length; ++i) {\n",
              "                    if (nbb_cells[i].input_prompt_number == nbb_cell_id) {\n",
              "                        if (nbb_cells[i].get_text() == nbb_unformatted_code) {\n",
              "                             nbb_cells[i].set_text(nbb_formatted_code);\n",
              "                        }\n",
              "                        break;\n",
              "                    }\n",
              "                }\n",
              "            }, 500);\n",
              "            "
            ],
            "text/plain": [
              "<IPython.core.display.Javascript object>"
            ]
          },
          "metadata": {}
        }
      ]
    },
    {
      "cell_type": "code",
      "source": [
        "sourceStream=spark.readStream.format(\"csv\").option(\"header\",True).schema(dataSchema).option(\"ignoreLeadingWhiteSpace\",True).option(\"mode\",\"dropMalformed\").option(\"maxFilesPerTrigger\",1).load(\"content/tweet/\")"
      ],
      "metadata": {
        "colab": {
          "base_uri": "https://localhost:8080/",
          "height": 17
        },
        "id": "x3Anz6FPxSIA",
        "outputId": "dab1fd2c-9a31-462c-c1a6-7119f6722386"
      },
      "execution_count": null,
      "outputs": [
        {
          "output_type": "display_data",
          "data": {
            "application/javascript": [
              "\n",
              "            setTimeout(function() {\n",
              "                var nbb_cell_id = 60;\n",
              "                var nbb_unformatted_code = \"sourceStream=spark.readStream.format(\\\"csv\\\").option(\\\"header\\\",True).schema(dataSchema).option(\\\"ignoreLeadingWhiteSpace\\\",True).option(\\\"mode\\\",\\\"dropMalformed\\\").option(\\\"maxFilesPerTrigger\\\",1).load(\\\"content/tweet/\\\")\";\n",
              "                var nbb_formatted_code = \"sourceStream = (\\n    spark.readStream.format(\\\"csv\\\")\\n    .option(\\\"header\\\", True)\\n    .schema(dataSchema)\\n    .option(\\\"ignoreLeadingWhiteSpace\\\", True)\\n    .option(\\\"mode\\\", \\\"dropMalformed\\\")\\n    .option(\\\"maxFilesPerTrigger\\\", 1)\\n    .load(\\\"content/tweet/\\\")\\n)\";\n",
              "                var nbb_cells = Jupyter.notebook.get_cells();\n",
              "                for (var i = 0; i < nbb_cells.length; ++i) {\n",
              "                    if (nbb_cells[i].input_prompt_number == nbb_cell_id) {\n",
              "                        if (nbb_cells[i].get_text() == nbb_unformatted_code) {\n",
              "                             nbb_cells[i].set_text(nbb_formatted_code);\n",
              "                        }\n",
              "                        break;\n",
              "                    }\n",
              "                }\n",
              "            }, 500);\n",
              "            "
            ],
            "text/plain": [
              "<IPython.core.display.Javascript object>"
            ]
          },
          "metadata": {}
        }
      ]
    },
    {
      "cell_type": "code",
      "source": [
        "sourceStream.show"
      ],
      "metadata": {
        "colab": {
          "base_uri": "https://localhost:8080/",
          "height": 34
        },
        "id": "_B5UsIPnxg9l",
        "outputId": "e7297ce6-0dfe-416e-b6ae-e801ef0a6fae"
      },
      "execution_count": null,
      "outputs": [
        {
          "output_type": "execute_result",
          "data": {
            "text/plain": [
              "<bound method DataFrame.show of DataFrame[_c0: int, tweets: string, idd: int]>"
            ]
          },
          "metadata": {},
          "execution_count": 61
        },
        {
          "output_type": "display_data",
          "data": {
            "application/javascript": [
              "\n",
              "            setTimeout(function() {\n",
              "                var nbb_cell_id = 61;\n",
              "                var nbb_unformatted_code = \"sourceStream.show\";\n",
              "                var nbb_formatted_code = \"sourceStream.show\";\n",
              "                var nbb_cells = Jupyter.notebook.get_cells();\n",
              "                for (var i = 0; i < nbb_cells.length; ++i) {\n",
              "                    if (nbb_cells[i].input_prompt_number == nbb_cell_id) {\n",
              "                        if (nbb_cells[i].get_text() == nbb_unformatted_code) {\n",
              "                             nbb_cells[i].set_text(nbb_formatted_code);\n",
              "                        }\n",
              "                        break;\n",
              "                    }\n",
              "                }\n",
              "            }, 500);\n",
              "            "
            ],
            "text/plain": [
              "<IPython.core.display.Javascript object>"
            ]
          },
          "metadata": {}
        }
      ]
    },
    {
      "cell_type": "code",
      "source": [
        "streaming.show"
      ],
      "metadata": {
        "colab": {
          "base_uri": "https://localhost:8080/",
          "height": 34
        },
        "id": "w3DRft0KsaRM",
        "outputId": "284e29c9-93ce-4d02-9df1-d59831bec2a2"
      },
      "execution_count": null,
      "outputs": [
        {
          "output_type": "execute_result",
          "data": {
            "text/plain": [
              "<bound method DataFrame.show of DataFrame[_c0: int, tweets: string, idd: int]>"
            ]
          },
          "metadata": {},
          "execution_count": 62
        },
        {
          "output_type": "display_data",
          "data": {
            "application/javascript": [
              "\n",
              "            setTimeout(function() {\n",
              "                var nbb_cell_id = 62;\n",
              "                var nbb_unformatted_code = \"streaming.show\";\n",
              "                var nbb_formatted_code = \"streaming.show\";\n",
              "                var nbb_cells = Jupyter.notebook.get_cells();\n",
              "                for (var i = 0; i < nbb_cells.length; ++i) {\n",
              "                    if (nbb_cells[i].input_prompt_number == nbb_cell_id) {\n",
              "                        if (nbb_cells[i].get_text() == nbb_unformatted_code) {\n",
              "                             nbb_cells[i].set_text(nbb_formatted_code);\n",
              "                        }\n",
              "                        break;\n",
              "                    }\n",
              "                }\n",
              "            }, 500);\n",
              "            "
            ],
            "text/plain": [
              "<IPython.core.display.Javascript object>"
            ]
          },
          "metadata": {}
        }
      ]
    },
    {
      "cell_type": "code",
      "source": [
        "streaming.isStreaming\n",
        "streaming1.isStreaming"
      ],
      "metadata": {
        "colab": {
          "base_uri": "https://localhost:8080/",
          "height": 34
        },
        "id": "BgizD_golS8q",
        "outputId": "fab7a7ad-d898-4d3c-ddd7-e0bd7eb04fc7"
      },
      "execution_count": null,
      "outputs": [
        {
          "output_type": "execute_result",
          "data": {
            "text/plain": [
              "True"
            ]
          },
          "metadata": {},
          "execution_count": 63
        },
        {
          "output_type": "display_data",
          "data": {
            "application/javascript": [
              "\n",
              "            setTimeout(function() {\n",
              "                var nbb_cell_id = 63;\n",
              "                var nbb_unformatted_code = \"streaming.isStreaming\\nstreaming1.isStreaming\";\n",
              "                var nbb_formatted_code = \"streaming.isStreaming\\nstreaming1.isStreaming\";\n",
              "                var nbb_cells = Jupyter.notebook.get_cells();\n",
              "                for (var i = 0; i < nbb_cells.length; ++i) {\n",
              "                    if (nbb_cells[i].input_prompt_number == nbb_cell_id) {\n",
              "                        if (nbb_cells[i].get_text() == nbb_unformatted_code) {\n",
              "                             nbb_cells[i].set_text(nbb_formatted_code);\n",
              "                        }\n",
              "                        break;\n",
              "                    }\n",
              "                }\n",
              "            }, 500);\n",
              "            "
            ],
            "text/plain": [
              "<IPython.core.display.Javascript object>"
            ]
          },
          "metadata": {}
        }
      ]
    },
    {
      "cell_type": "code",
      "source": [
        "def cleanTxt(text):\n",
        "    text = re.sub(r'@[A-Za-z0-9]+', '', text) #supprimer les @mentions\n",
        "    text = re.sub(r'#', '', text) #supprimer les hachtag\n",
        "    text = re.sub(r'RT[\\s]+', '', text) #supprimer RT\n",
        "    text = re.sub(r'https?:\\/\\/\\S+', '', text) #supprimer les links\n",
        "    return text\n",
        "\n",
        "\n",
        "def getSubjectivity(text):\n",
        "   return TextBlob(text).sentiment.subjectivity\n",
        "  \n",
        " #Create a function to get the polarity\n",
        "def getPolarity(text):\n",
        "   return TextBlob(text).sentiment.polarity\n",
        "\n"
      ],
      "metadata": {
        "id": "SQgEQUikk7G8"
      },
      "execution_count": null,
      "outputs": []
    },
    {
      "cell_type": "code",
      "source": [
        "twt = streaming.groupBy(\"tweets\")\n",
        "ttwwtt=streaming.groupBy([\"id\",\"idd\"])\n",
        "#twtt= streaming.groupby(\"TextBlob_Analysis\").count().show()"
      ],
      "metadata": {
        "colab": {
          "base_uri": "https://localhost:8080/",
          "height": 17
        },
        "id": "KjQjd9A-saUc",
        "outputId": "65ba96eb-b5a8-4dff-812b-80e50f319bf1"
      },
      "execution_count": null,
      "outputs": [
        {
          "output_type": "display_data",
          "data": {
            "application/javascript": [
              "\n",
              "            setTimeout(function() {\n",
              "                var nbb_cell_id = 65;\n",
              "                var nbb_unformatted_code = \"twt = streaming.groupBy(\\\"tweets\\\")\\nttwwtt=streaming.groupBy([\\\"id\\\",\\\"idd\\\"])\\n#twtt= streaming.groupby(\\\"TextBlob_Analysis\\\").count().show()\";\n",
              "                var nbb_formatted_code = \"twt = streaming.groupBy(\\\"tweets\\\")\\nttwwtt = streaming.groupBy([\\\"id\\\", \\\"idd\\\"])\\n# twtt= streaming.groupby(\\\"TextBlob_Analysis\\\").count().show()\";\n",
              "                var nbb_cells = Jupyter.notebook.get_cells();\n",
              "                for (var i = 0; i < nbb_cells.length; ++i) {\n",
              "                    if (nbb_cells[i].input_prompt_number == nbb_cell_id) {\n",
              "                        if (nbb_cells[i].get_text() == nbb_unformatted_code) {\n",
              "                             nbb_cells[i].set_text(nbb_formatted_code);\n",
              "                        }\n",
              "                        break;\n",
              "                    }\n",
              "                }\n",
              "            }, 500);\n",
              "            "
            ],
            "text/plain": [
              "<IPython.core.display.Javascript object>"
            ]
          },
          "metadata": {}
        }
      ]
    },
    {
      "cell_type": "code",
      "source": [
        ""
      ],
      "metadata": {
        "id": "yYv-pnHCsaYf"
      },
      "execution_count": null,
      "outputs": []
    },
    {
      "cell_type": "code",
      "source": [
        "#dest_count.head()"
      ],
      "metadata": {
        "id": "6bqjT8FcsaZ6"
      },
      "execution_count": null,
      "outputs": []
    },
    {
      "cell_type": "code",
      "source": [
        "streaming.printSchema()"
      ],
      "metadata": {
        "id": "gvizP9U4saeH",
        "colab": {
          "base_uri": "https://localhost:8080/",
          "height": 104
        },
        "outputId": "c2312ee8-2d0a-47a6-b6c0-efd818c7452a"
      },
      "execution_count": null,
      "outputs": [
        {
          "output_type": "stream",
          "name": "stdout",
          "text": [
            "root\n",
            " |-- _c0: integer (nullable = true)\n",
            " |-- tweets: string (nullable = true)\n",
            " |-- idd: integer (nullable = true)\n",
            "\n"
          ]
        },
        {
          "output_type": "display_data",
          "data": {
            "application/javascript": [
              "\n",
              "            setTimeout(function() {\n",
              "                var nbb_cell_id = 66;\n",
              "                var nbb_unformatted_code = \"streaming.printSchema()\";\n",
              "                var nbb_formatted_code = \"streaming.printSchema()\";\n",
              "                var nbb_cells = Jupyter.notebook.get_cells();\n",
              "                for (var i = 0; i < nbb_cells.length; ++i) {\n",
              "                    if (nbb_cells[i].input_prompt_number == nbb_cell_id) {\n",
              "                        if (nbb_cells[i].get_text() == nbb_unformatted_code) {\n",
              "                             nbb_cells[i].set_text(nbb_formatted_code);\n",
              "                        }\n",
              "                        break;\n",
              "                    }\n",
              "                }\n",
              "            }, 500);\n",
              "            "
            ],
            "text/plain": [
              "<IPython.core.display.Javascript object>"
            ]
          },
          "metadata": {}
        }
      ]
    },
    {
      "cell_type": "code",
      "source": [
        "#query=twt.writeStream.format(\"console\").outputMode(\"complete\").start()\n",
        "\n"
      ],
      "metadata": {
        "colab": {
          "base_uri": "https://localhost:8080/",
          "height": 17
        },
        "id": "aSFMK2Wdh5bC",
        "outputId": "49935d13-c481-43a9-d1ba-ed6ed85436bb"
      },
      "execution_count": null,
      "outputs": [
        {
          "output_type": "display_data",
          "data": {
            "application/javascript": [
              "\n",
              "            setTimeout(function() {\n",
              "                var nbb_cell_id = 68;\n",
              "                var nbb_unformatted_code = \"#query=twt.writeStream.format(\\\"console\\\").outputMode(\\\"complete\\\").start()\";\n",
              "                var nbb_formatted_code = \"# query=twt.writeStream.format(\\\"console\\\").outputMode(\\\"complete\\\").start()\";\n",
              "                var nbb_cells = Jupyter.notebook.get_cells();\n",
              "                for (var i = 0; i < nbb_cells.length; ++i) {\n",
              "                    if (nbb_cells[i].input_prompt_number == nbb_cell_id) {\n",
              "                        if (nbb_cells[i].get_text() == nbb_unformatted_code) {\n",
              "                             nbb_cells[i].set_text(nbb_formatted_code);\n",
              "                        }\n",
              "                        break;\n",
              "                    }\n",
              "                }\n",
              "            }, 500);\n",
              "            "
            ],
            "text/plain": [
              "<IPython.core.display.Javascript object>"
            ]
          },
          "metadata": {}
        }
      ]
    },
    {
      "cell_type": "code",
      "source": [
        ""
      ],
      "metadata": {
        "id": "JwVF_GREsSSs"
      },
      "execution_count": null,
      "outputs": []
    },
    {
      "cell_type": "markdown",
      "source": [
        ""
      ],
      "metadata": {
        "id": "CGU5vj9jhqqJ"
      }
    },
    {
      "cell_type": "code",
      "source": [
        "testData = df.repartition(10)"
      ],
      "metadata": {
        "colab": {
          "base_uri": "https://localhost:8080/",
          "height": 17
        },
        "id": "8NRAoRslYS6Y",
        "outputId": "9dc40474-0125-44e4-b64d-5bd484e14183"
      },
      "execution_count": null,
      "outputs": [
        {
          "output_type": "display_data",
          "data": {
            "application/javascript": [
              "\n",
              "            setTimeout(function() {\n",
              "                var nbb_cell_id = 69;\n",
              "                var nbb_unformatted_code = \"testData = df.repartition(10)\";\n",
              "                var nbb_formatted_code = \"testData = df.repartition(10)\";\n",
              "                var nbb_cells = Jupyter.notebook.get_cells();\n",
              "                for (var i = 0; i < nbb_cells.length; ++i) {\n",
              "                    if (nbb_cells[i].input_prompt_number == nbb_cell_id) {\n",
              "                        if (nbb_cells[i].get_text() == nbb_unformatted_code) {\n",
              "                             nbb_cells[i].set_text(nbb_formatted_code);\n",
              "                        }\n",
              "                        break;\n",
              "                    }\n",
              "                }\n",
              "            }, 500);\n",
              "            "
            ],
            "text/plain": [
              "<IPython.core.display.Javascript object>"
            ]
          },
          "metadata": {}
        }
      ]
    },
    {
      "cell_type": "code",
      "source": [
        "testData"
      ],
      "metadata": {
        "id": "RBVLjuYyYUpu"
      },
      "execution_count": null,
      "outputs": []
    },
    {
      "cell_type": "code",
      "source": [
        "testData.write.format(\"CSV\").option(\"header\",True).save(\"FileStore/tables/HeartTest/\")"
      ],
      "metadata": {
        "colab": {
          "base_uri": "https://localhost:8080/",
          "height": 17
        },
        "id": "14x75Xp-YqiQ",
        "outputId": "fd31d886-f6ac-4f79-f761-7f4eab5e3cfd"
      },
      "execution_count": null,
      "outputs": [
        {
          "output_type": "display_data",
          "data": {
            "application/javascript": [
              "\n",
              "            setTimeout(function() {\n",
              "                var nbb_cell_id = 70;\n",
              "                var nbb_unformatted_code = \"testData.write.format(\\\"CSV\\\").option(\\\"header\\\",True).save(\\\"FileStore/tables/HeartTest/\\\")\";\n",
              "                var nbb_formatted_code = \"testData.write.format(\\\"CSV\\\").option(\\\"header\\\", True).save(\\\"FileStore/tables/HeartTest/\\\")\";\n",
              "                var nbb_cells = Jupyter.notebook.get_cells();\n",
              "                for (var i = 0; i < nbb_cells.length; ++i) {\n",
              "                    if (nbb_cells[i].input_prompt_number == nbb_cell_id) {\n",
              "                        if (nbb_cells[i].get_text() == nbb_unformatted_code) {\n",
              "                             nbb_cells[i].set_text(nbb_formatted_code);\n",
              "                        }\n",
              "                        break;\n",
              "                    }\n",
              "                }\n",
              "            }, 500);\n",
              "            "
            ],
            "text/plain": [
              "<IPython.core.display.Javascript object>"
            ]
          },
          "metadata": {}
        }
      ]
    },
    {
      "cell_type": "code",
      "source": [
        "testDF, trainDF = dff.randomSplit([0.3, 0.7])"
      ],
      "metadata": {
        "colab": {
          "base_uri": "https://localhost:8080/",
          "height": 17
        },
        "id": "5KA9-1ZCygu8",
        "outputId": "f9a2eb89-1470-4e04-c6b3-57f37803cd4d"
      },
      "execution_count": null,
      "outputs": [
        {
          "output_type": "display_data",
          "data": {
            "application/javascript": [
              "\n",
              "            setTimeout(function() {\n",
              "                var nbb_cell_id = 73;\n",
              "                var nbb_unformatted_code = \"testDF, trainDF = dff.randomSplit([0.3, 0.7])\";\n",
              "                var nbb_formatted_code = \"testDF, trainDF = dff.randomSplit([0.3, 0.7])\";\n",
              "                var nbb_cells = Jupyter.notebook.get_cells();\n",
              "                for (var i = 0; i < nbb_cells.length; ++i) {\n",
              "                    if (nbb_cells[i].input_prompt_number == nbb_cell_id) {\n",
              "                        if (nbb_cells[i].get_text() == nbb_unformatted_code) {\n",
              "                             nbb_cells[i].set_text(nbb_formatted_code);\n",
              "                        }\n",
              "                        break;\n",
              "                    }\n",
              "                }\n",
              "            }, 500);\n",
              "            "
            ],
            "text/plain": [
              "<IPython.core.display.Javascript object>"
            ]
          },
          "metadata": {}
        }
      ]
    },
    {
      "cell_type": "code",
      "source": [
        "pip install textblob"
      ],
      "metadata": {
        "id": "oZMcxo6C8VTr"
      },
      "execution_count": null,
      "outputs": []
    },
    {
      "cell_type": "code",
      "source": [
        "strea=model.transform(sourceStream).select(tweets,TextBlob_Analysis)"
      ],
      "metadata": {
        "id": "0MGPQZXTzFSU"
      },
      "execution_count": null,
      "outputs": []
    },
    {
      "cell_type": "code",
      "source": [
        "t=twt.toPandas()"
      ],
      "metadata": {
        "id": "Sl8bN--k6LQa"
      },
      "execution_count": null,
      "outputs": []
    }
  ]
}